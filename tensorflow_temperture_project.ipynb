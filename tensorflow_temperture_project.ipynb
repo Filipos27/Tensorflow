{
 "cells": [
  {
   "cell_type": "markdown",
   "metadata": {},
   "source": [
    "# Temperature regression tensorflow project"
   ]
  },
  {
   "cell_type": "markdown",
   "metadata": {},
   "source": [
    "Global warming is the ongoing rise of the average temperature of the Earth's climate system and has been demonstrated by direct temperature measurements and by measurements of various effects of the warming.\n",
    "\n",
    "This is dataset of the temperature of major cities in the world. Thanks to University of Dayton, the dataset is available as separate txt files for each city here. The data is available for research and non-commercial purposes only."
   ]
  },
  {
   "cell_type": "code",
   "execution_count": 1,
   "metadata": {},
   "outputs": [],
   "source": [
    "import pandas as pd\n",
    "import numpy as np\n",
    "import matplotlib.pyplot as plt\n",
    "%matplotlib inline\n",
    "import seaborn as sns\n",
    "from matplotlib import cm"
   ]
  },
  {
   "cell_type": "code",
   "execution_count": 2,
   "metadata": {},
   "outputs": [
    {
     "name": "stderr",
     "output_type": "stream",
     "text": [
      "/home/mattdmv/anaconda3/lib/python3.8/site-packages/IPython/core/interactiveshell.py:3146: DtypeWarning: Columns (2) have mixed types.Specify dtype option on import or set low_memory=False.\n",
      "  has_raised = await self.run_ast_nodes(code_ast.body, cell_name,\n"
     ]
    },
    {
     "data": {
      "text/html": [
       "<div>\n",
       "<style scoped>\n",
       "    .dataframe tbody tr th:only-of-type {\n",
       "        vertical-align: middle;\n",
       "    }\n",
       "\n",
       "    .dataframe tbody tr th {\n",
       "        vertical-align: top;\n",
       "    }\n",
       "\n",
       "    .dataframe thead th {\n",
       "        text-align: right;\n",
       "    }\n",
       "</style>\n",
       "<table border=\"1\" class=\"dataframe\">\n",
       "  <thead>\n",
       "    <tr style=\"text-align: right;\">\n",
       "      <th></th>\n",
       "      <th>Region</th>\n",
       "      <th>Country</th>\n",
       "      <th>State</th>\n",
       "      <th>City</th>\n",
       "      <th>Month</th>\n",
       "      <th>Day</th>\n",
       "      <th>Year</th>\n",
       "      <th>AvgTemperature</th>\n",
       "    </tr>\n",
       "  </thead>\n",
       "  <tbody>\n",
       "    <tr>\n",
       "      <th>0</th>\n",
       "      <td>Africa</td>\n",
       "      <td>Algeria</td>\n",
       "      <td>NaN</td>\n",
       "      <td>Algiers</td>\n",
       "      <td>1</td>\n",
       "      <td>1</td>\n",
       "      <td>1995</td>\n",
       "      <td>64.2</td>\n",
       "    </tr>\n",
       "    <tr>\n",
       "      <th>1</th>\n",
       "      <td>Africa</td>\n",
       "      <td>Algeria</td>\n",
       "      <td>NaN</td>\n",
       "      <td>Algiers</td>\n",
       "      <td>1</td>\n",
       "      <td>2</td>\n",
       "      <td>1995</td>\n",
       "      <td>49.4</td>\n",
       "    </tr>\n",
       "    <tr>\n",
       "      <th>2</th>\n",
       "      <td>Africa</td>\n",
       "      <td>Algeria</td>\n",
       "      <td>NaN</td>\n",
       "      <td>Algiers</td>\n",
       "      <td>1</td>\n",
       "      <td>3</td>\n",
       "      <td>1995</td>\n",
       "      <td>48.8</td>\n",
       "    </tr>\n",
       "    <tr>\n",
       "      <th>3</th>\n",
       "      <td>Africa</td>\n",
       "      <td>Algeria</td>\n",
       "      <td>NaN</td>\n",
       "      <td>Algiers</td>\n",
       "      <td>1</td>\n",
       "      <td>4</td>\n",
       "      <td>1995</td>\n",
       "      <td>46.4</td>\n",
       "    </tr>\n",
       "    <tr>\n",
       "      <th>4</th>\n",
       "      <td>Africa</td>\n",
       "      <td>Algeria</td>\n",
       "      <td>NaN</td>\n",
       "      <td>Algiers</td>\n",
       "      <td>1</td>\n",
       "      <td>5</td>\n",
       "      <td>1995</td>\n",
       "      <td>47.9</td>\n",
       "    </tr>\n",
       "  </tbody>\n",
       "</table>\n",
       "</div>"
      ],
      "text/plain": [
       "   Region  Country State     City  Month  Day  Year  AvgTemperature\n",
       "0  Africa  Algeria   NaN  Algiers      1    1  1995            64.2\n",
       "1  Africa  Algeria   NaN  Algiers      1    2  1995            49.4\n",
       "2  Africa  Algeria   NaN  Algiers      1    3  1995            48.8\n",
       "3  Africa  Algeria   NaN  Algiers      1    4  1995            46.4\n",
       "4  Africa  Algeria   NaN  Algiers      1    5  1995            47.9"
      ]
     },
     "execution_count": 2,
     "metadata": {},
     "output_type": "execute_result"
    }
   ],
   "source": [
    "df=pd.read_csv(\"city_temperature.csv\")\n",
    "df.head()"
   ]
  },
  {
   "cell_type": "code",
   "execution_count": 3,
   "metadata": {},
   "outputs": [
    {
     "name": "stdout",
     "output_type": "stream",
     "text": [
      "<class 'pandas.core.frame.DataFrame'>\n",
      "RangeIndex: 2906327 entries, 0 to 2906326\n",
      "Data columns (total 8 columns):\n",
      " #   Column          Dtype  \n",
      "---  ------          -----  \n",
      " 0   Region          object \n",
      " 1   Country         object \n",
      " 2   State           object \n",
      " 3   City            object \n",
      " 4   Month           int64  \n",
      " 5   Day             int64  \n",
      " 6   Year            int64  \n",
      " 7   AvgTemperature  float64\n",
      "dtypes: float64(1), int64(3), object(4)\n",
      "memory usage: 177.4+ MB\n"
     ]
    }
   ],
   "source": [
    "df.info()"
   ]
  },
  {
   "cell_type": "code",
   "execution_count": 4,
   "metadata": {},
   "outputs": [
    {
     "data": {
      "text/plain": [
       "Region                  0\n",
       "Country                 0\n",
       "State             1450990\n",
       "City                    0\n",
       "Month                   0\n",
       "Day                     0\n",
       "Year                    0\n",
       "AvgTemperature          0\n",
       "dtype: int64"
      ]
     },
     "execution_count": 4,
     "metadata": {},
     "output_type": "execute_result"
    }
   ],
   "source": [
    "#Calculating null values\n",
    "df.isnull().sum()"
   ]
  },
  {
   "cell_type": "code",
   "execution_count": 5,
   "metadata": {
    "scrolled": true
   },
   "outputs": [
    {
     "data": {
      "text/html": [
       "<div>\n",
       "<style scoped>\n",
       "    .dataframe tbody tr th:only-of-type {\n",
       "        vertical-align: middle;\n",
       "    }\n",
       "\n",
       "    .dataframe tbody tr th {\n",
       "        vertical-align: top;\n",
       "    }\n",
       "\n",
       "    .dataframe thead th {\n",
       "        text-align: right;\n",
       "    }\n",
       "</style>\n",
       "<table border=\"1\" class=\"dataframe\">\n",
       "  <thead>\n",
       "    <tr style=\"text-align: right;\">\n",
       "      <th></th>\n",
       "      <th>Region</th>\n",
       "      <th>Country</th>\n",
       "      <th>City</th>\n",
       "      <th>Month</th>\n",
       "      <th>Day</th>\n",
       "      <th>Year</th>\n",
       "      <th>AvgTemperature</th>\n",
       "    </tr>\n",
       "  </thead>\n",
       "  <tbody>\n",
       "    <tr>\n",
       "      <th>0</th>\n",
       "      <td>Africa</td>\n",
       "      <td>Algeria</td>\n",
       "      <td>Algiers</td>\n",
       "      <td>1</td>\n",
       "      <td>1</td>\n",
       "      <td>1995</td>\n",
       "      <td>64.2</td>\n",
       "    </tr>\n",
       "    <tr>\n",
       "      <th>1</th>\n",
       "      <td>Africa</td>\n",
       "      <td>Algeria</td>\n",
       "      <td>Algiers</td>\n",
       "      <td>1</td>\n",
       "      <td>2</td>\n",
       "      <td>1995</td>\n",
       "      <td>49.4</td>\n",
       "    </tr>\n",
       "    <tr>\n",
       "      <th>2</th>\n",
       "      <td>Africa</td>\n",
       "      <td>Algeria</td>\n",
       "      <td>Algiers</td>\n",
       "      <td>1</td>\n",
       "      <td>3</td>\n",
       "      <td>1995</td>\n",
       "      <td>48.8</td>\n",
       "    </tr>\n",
       "    <tr>\n",
       "      <th>3</th>\n",
       "      <td>Africa</td>\n",
       "      <td>Algeria</td>\n",
       "      <td>Algiers</td>\n",
       "      <td>1</td>\n",
       "      <td>4</td>\n",
       "      <td>1995</td>\n",
       "      <td>46.4</td>\n",
       "    </tr>\n",
       "    <tr>\n",
       "      <th>4</th>\n",
       "      <td>Africa</td>\n",
       "      <td>Algeria</td>\n",
       "      <td>Algiers</td>\n",
       "      <td>1</td>\n",
       "      <td>5</td>\n",
       "      <td>1995</td>\n",
       "      <td>47.9</td>\n",
       "    </tr>\n",
       "  </tbody>\n",
       "</table>\n",
       "</div>"
      ],
      "text/plain": [
       "   Region  Country     City  Month  Day  Year  AvgTemperature\n",
       "0  Africa  Algeria  Algiers      1    1  1995            64.2\n",
       "1  Africa  Algeria  Algiers      1    2  1995            49.4\n",
       "2  Africa  Algeria  Algiers      1    3  1995            48.8\n",
       "3  Africa  Algeria  Algiers      1    4  1995            46.4\n",
       "4  Africa  Algeria  Algiers      1    5  1995            47.9"
      ]
     },
     "execution_count": 5,
     "metadata": {},
     "output_type": "execute_result"
    }
   ],
   "source": [
    "#we have over 1.4 milion none values in \"State\" column so we will drop it\n",
    "df2=df.drop([\"State\"],axis=1)\n",
    "df2.head()"
   ]
  },
  {
   "cell_type": "markdown",
   "metadata": {},
   "source": [
    "In this project we will try to predict  temperature only in Europe. So first we will transfrom average temperature into Celsius."
   ]
  },
  {
   "cell_type": "code",
   "execution_count": 6,
   "metadata": {},
   "outputs": [
    {
     "data": {
      "text/html": [
       "<div>\n",
       "<style scoped>\n",
       "    .dataframe tbody tr th:only-of-type {\n",
       "        vertical-align: middle;\n",
       "    }\n",
       "\n",
       "    .dataframe tbody tr th {\n",
       "        vertical-align: top;\n",
       "    }\n",
       "\n",
       "    .dataframe thead th {\n",
       "        text-align: right;\n",
       "    }\n",
       "</style>\n",
       "<table border=\"1\" class=\"dataframe\">\n",
       "  <thead>\n",
       "    <tr style=\"text-align: right;\">\n",
       "      <th></th>\n",
       "      <th>Region</th>\n",
       "      <th>Country</th>\n",
       "      <th>City</th>\n",
       "      <th>Month</th>\n",
       "      <th>Day</th>\n",
       "      <th>Year</th>\n",
       "      <th>AvgTemperature</th>\n",
       "    </tr>\n",
       "  </thead>\n",
       "  <tbody>\n",
       "    <tr>\n",
       "      <th>623377</th>\n",
       "      <td>Europe</td>\n",
       "      <td>Albania</td>\n",
       "      <td>Tirana</td>\n",
       "      <td>1</td>\n",
       "      <td>1</td>\n",
       "      <td>1995</td>\n",
       "      <td>-99.0</td>\n",
       "    </tr>\n",
       "    <tr>\n",
       "      <th>623378</th>\n",
       "      <td>Europe</td>\n",
       "      <td>Albania</td>\n",
       "      <td>Tirana</td>\n",
       "      <td>1</td>\n",
       "      <td>2</td>\n",
       "      <td>1995</td>\n",
       "      <td>-99.0</td>\n",
       "    </tr>\n",
       "    <tr>\n",
       "      <th>623379</th>\n",
       "      <td>Europe</td>\n",
       "      <td>Albania</td>\n",
       "      <td>Tirana</td>\n",
       "      <td>1</td>\n",
       "      <td>3</td>\n",
       "      <td>1995</td>\n",
       "      <td>-99.0</td>\n",
       "    </tr>\n",
       "    <tr>\n",
       "      <th>623380</th>\n",
       "      <td>Europe</td>\n",
       "      <td>Albania</td>\n",
       "      <td>Tirana</td>\n",
       "      <td>1</td>\n",
       "      <td>4</td>\n",
       "      <td>1995</td>\n",
       "      <td>-99.0</td>\n",
       "    </tr>\n",
       "    <tr>\n",
       "      <th>623381</th>\n",
       "      <td>Europe</td>\n",
       "      <td>Albania</td>\n",
       "      <td>Tirana</td>\n",
       "      <td>1</td>\n",
       "      <td>5</td>\n",
       "      <td>1995</td>\n",
       "      <td>-99.0</td>\n",
       "    </tr>\n",
       "  </tbody>\n",
       "</table>\n",
       "</div>"
      ],
      "text/plain": [
       "        Region  Country    City  Month  Day  Year  AvgTemperature\n",
       "623377  Europe  Albania  Tirana      1    1  1995           -99.0\n",
       "623378  Europe  Albania  Tirana      1    2  1995           -99.0\n",
       "623379  Europe  Albania  Tirana      1    3  1995           -99.0\n",
       "623380  Europe  Albania  Tirana      1    4  1995           -99.0\n",
       "623381  Europe  Albania  Tirana      1    5  1995           -99.0"
      ]
     },
     "execution_count": 6,
     "metadata": {},
     "output_type": "execute_result"
    }
   ],
   "source": [
    "#Making dataframe with only Europe region\n",
    "df3=df2[df2[\"Region\"]==\"Europe\"]\n",
    "df3.head()"
   ]
  },
  {
   "cell_type": "markdown",
   "metadata": {},
   "source": [
    "We will drop rows with temperature less then 0F."
   ]
  },
  {
   "cell_type": "code",
   "execution_count": 7,
   "metadata": {},
   "outputs": [
    {
     "data": {
      "text/plain": [
       "(381990, 7)"
      ]
     },
     "execution_count": 7,
     "metadata": {},
     "output_type": "execute_result"
    }
   ],
   "source": [
    "df3.shape"
   ]
  },
  {
   "cell_type": "code",
   "execution_count": 8,
   "metadata": {
    "scrolled": true
   },
   "outputs": [
    {
     "data": {
      "text/html": [
       "<div>\n",
       "<style scoped>\n",
       "    .dataframe tbody tr th:only-of-type {\n",
       "        vertical-align: middle;\n",
       "    }\n",
       "\n",
       "    .dataframe tbody tr th {\n",
       "        vertical-align: top;\n",
       "    }\n",
       "\n",
       "    .dataframe thead th {\n",
       "        text-align: right;\n",
       "    }\n",
       "</style>\n",
       "<table border=\"1\" class=\"dataframe\">\n",
       "  <thead>\n",
       "    <tr style=\"text-align: right;\">\n",
       "      <th></th>\n",
       "      <th>Region</th>\n",
       "      <th>Country</th>\n",
       "      <th>City</th>\n",
       "      <th>Month</th>\n",
       "      <th>Day</th>\n",
       "      <th>Year</th>\n",
       "      <th>AvgTemperature</th>\n",
       "    </tr>\n",
       "  </thead>\n",
       "  <tbody>\n",
       "    <tr>\n",
       "      <th>624218</th>\n",
       "      <td>Europe</td>\n",
       "      <td>Albania</td>\n",
       "      <td>Tirana</td>\n",
       "      <td>4</td>\n",
       "      <td>21</td>\n",
       "      <td>1997</td>\n",
       "      <td>55.4</td>\n",
       "    </tr>\n",
       "    <tr>\n",
       "      <th>624222</th>\n",
       "      <td>Europe</td>\n",
       "      <td>Albania</td>\n",
       "      <td>Tirana</td>\n",
       "      <td>4</td>\n",
       "      <td>25</td>\n",
       "      <td>1997</td>\n",
       "      <td>56.8</td>\n",
       "    </tr>\n",
       "    <tr>\n",
       "      <th>624223</th>\n",
       "      <td>Europe</td>\n",
       "      <td>Albania</td>\n",
       "      <td>Tirana</td>\n",
       "      <td>4</td>\n",
       "      <td>26</td>\n",
       "      <td>1997</td>\n",
       "      <td>61.5</td>\n",
       "    </tr>\n",
       "    <tr>\n",
       "      <th>624224</th>\n",
       "      <td>Europe</td>\n",
       "      <td>Albania</td>\n",
       "      <td>Tirana</td>\n",
       "      <td>4</td>\n",
       "      <td>27</td>\n",
       "      <td>1997</td>\n",
       "      <td>60.8</td>\n",
       "    </tr>\n",
       "    <tr>\n",
       "      <th>624225</th>\n",
       "      <td>Europe</td>\n",
       "      <td>Albania</td>\n",
       "      <td>Tirana</td>\n",
       "      <td>4</td>\n",
       "      <td>28</td>\n",
       "      <td>1997</td>\n",
       "      <td>57.2</td>\n",
       "    </tr>\n",
       "  </tbody>\n",
       "</table>\n",
       "</div>"
      ],
      "text/plain": [
       "        Region  Country    City  Month  Day  Year  AvgTemperature\n",
       "624218  Europe  Albania  Tirana      4   21  1997            55.4\n",
       "624222  Europe  Albania  Tirana      4   25  1997            56.8\n",
       "624223  Europe  Albania  Tirana      4   26  1997            61.5\n",
       "624224  Europe  Albania  Tirana      4   27  1997            60.8\n",
       "624225  Europe  Albania  Tirana      4   28  1997            57.2"
      ]
     },
     "execution_count": 8,
     "metadata": {},
     "output_type": "execute_result"
    }
   ],
   "source": [
    "df4=df3[df3[\"AvgTemperature\"]>=0]\n",
    "df4.head()"
   ]
  },
  {
   "cell_type": "code",
   "execution_count": 9,
   "metadata": {},
   "outputs": [
    {
     "data": {
      "text/plain": [
       "(368339, 7)"
      ]
     },
     "execution_count": 9,
     "metadata": {},
     "output_type": "execute_result"
    }
   ],
   "source": [
    "df4.shape"
   ]
  },
  {
   "cell_type": "code",
   "execution_count": 10,
   "metadata": {},
   "outputs": [],
   "source": [
    "df5=df4.copy()"
   ]
  },
  {
   "cell_type": "code",
   "execution_count": 11,
   "metadata": {
    "scrolled": false
   },
   "outputs": [
    {
     "data": {
      "text/html": [
       "<div>\n",
       "<style scoped>\n",
       "    .dataframe tbody tr th:only-of-type {\n",
       "        vertical-align: middle;\n",
       "    }\n",
       "\n",
       "    .dataframe tbody tr th {\n",
       "        vertical-align: top;\n",
       "    }\n",
       "\n",
       "    .dataframe thead th {\n",
       "        text-align: right;\n",
       "    }\n",
       "</style>\n",
       "<table border=\"1\" class=\"dataframe\">\n",
       "  <thead>\n",
       "    <tr style=\"text-align: right;\">\n",
       "      <th></th>\n",
       "      <th>Region</th>\n",
       "      <th>Country</th>\n",
       "      <th>City</th>\n",
       "      <th>Month</th>\n",
       "      <th>Day</th>\n",
       "      <th>Year</th>\n",
       "      <th>AvgTemperature</th>\n",
       "      <th>Temperature</th>\n",
       "    </tr>\n",
       "  </thead>\n",
       "  <tbody>\n",
       "    <tr>\n",
       "      <th>624218</th>\n",
       "      <td>Europe</td>\n",
       "      <td>Albania</td>\n",
       "      <td>Tirana</td>\n",
       "      <td>4</td>\n",
       "      <td>21</td>\n",
       "      <td>1997</td>\n",
       "      <td>55.4</td>\n",
       "      <td>13.0</td>\n",
       "    </tr>\n",
       "    <tr>\n",
       "      <th>624222</th>\n",
       "      <td>Europe</td>\n",
       "      <td>Albania</td>\n",
       "      <td>Tirana</td>\n",
       "      <td>4</td>\n",
       "      <td>25</td>\n",
       "      <td>1997</td>\n",
       "      <td>56.8</td>\n",
       "      <td>14.0</td>\n",
       "    </tr>\n",
       "    <tr>\n",
       "      <th>624223</th>\n",
       "      <td>Europe</td>\n",
       "      <td>Albania</td>\n",
       "      <td>Tirana</td>\n",
       "      <td>4</td>\n",
       "      <td>26</td>\n",
       "      <td>1997</td>\n",
       "      <td>61.5</td>\n",
       "      <td>16.0</td>\n",
       "    </tr>\n",
       "    <tr>\n",
       "      <th>624224</th>\n",
       "      <td>Europe</td>\n",
       "      <td>Albania</td>\n",
       "      <td>Tirana</td>\n",
       "      <td>4</td>\n",
       "      <td>27</td>\n",
       "      <td>1997</td>\n",
       "      <td>60.8</td>\n",
       "      <td>16.0</td>\n",
       "    </tr>\n",
       "    <tr>\n",
       "      <th>624225</th>\n",
       "      <td>Europe</td>\n",
       "      <td>Albania</td>\n",
       "      <td>Tirana</td>\n",
       "      <td>4</td>\n",
       "      <td>28</td>\n",
       "      <td>1997</td>\n",
       "      <td>57.2</td>\n",
       "      <td>14.0</td>\n",
       "    </tr>\n",
       "  </tbody>\n",
       "</table>\n",
       "</div>"
      ],
      "text/plain": [
       "        Region  Country    City  Month  Day  Year  AvgTemperature  Temperature\n",
       "624218  Europe  Albania  Tirana      4   21  1997            55.4         13.0\n",
       "624222  Europe  Albania  Tirana      4   25  1997            56.8         14.0\n",
       "624223  Europe  Albania  Tirana      4   26  1997            61.5         16.0\n",
       "624224  Europe  Albania  Tirana      4   27  1997            60.8         16.0\n",
       "624225  Europe  Albania  Tirana      4   28  1997            57.2         14.0"
      ]
     },
     "execution_count": 11,
     "metadata": {},
     "output_type": "execute_result"
    }
   ],
   "source": [
    "# Creating new column with temperature in Celsius\n",
    "df5[\"Temperature\"]=round((df4[\"AvgTemperature\"]-32)/1.8)\n",
    "df5.head()"
   ]
  },
  {
   "cell_type": "markdown",
   "metadata": {},
   "source": [
    "## Exploring data"
   ]
  },
  {
   "cell_type": "code",
   "execution_count": 12,
   "metadata": {
    "scrolled": true
   },
   "outputs": [
    {
     "data": {
      "text/plain": [
       "array(['Albania', 'Austria', 'Belarus', 'Belgium', 'Bulgaria', 'Croatia',\n",
       "       'Cyprus', 'Czech Republic', 'Denmark', 'Finland', 'France',\n",
       "       'Germany', 'Georgia', 'Greece', 'Hungary', 'Iceland', 'Ireland',\n",
       "       'Italy', 'Latvia', 'Macedonia', 'The Netherlands', 'Norway',\n",
       "       'Poland', 'Portugal', 'Romania', 'Russia', 'Serbia-Montenegro',\n",
       "       'Slovakia', 'Spain', 'Sweden', 'Switzerland', 'Ukraine',\n",
       "       'United Kingdom', 'Yugoslavia'], dtype=object)"
      ]
     },
     "execution_count": 12,
     "metadata": {},
     "output_type": "execute_result"
    }
   ],
   "source": [
    "df5[\"Country\"].unique()"
   ]
  },
  {
   "cell_type": "code",
   "execution_count": 13,
   "metadata": {},
   "outputs": [
    {
     "data": {
      "text/plain": [
       "Country\n",
       "Albania              16.182008\n",
       "Austria              10.815368\n",
       "Belarus               7.567441\n",
       "Belgium              10.835787\n",
       "Bulgaria             10.890204\n",
       "Croatia              12.450017\n",
       "Cyprus               19.983157\n",
       "Czech Republic        8.934705\n",
       "Denmark               8.551418\n",
       "Finland               6.190752\n",
       "France               12.984824\n",
       "Georgia              13.519386\n",
       "Germany               9.966308\n",
       "Greece               18.461102\n",
       "Hungary              10.870304\n",
       "Iceland               5.288838\n",
       "Ireland               9.736495\n",
       "Italy                14.289048\n",
       "Latvia                7.531796\n",
       "Macedonia            12.627698\n",
       "Norway                5.532307\n",
       "Poland                9.060596\n",
       "Portugal             17.009217\n",
       "Romania              11.570640\n",
       "Russia                7.939497\n",
       "Serbia-Montenegro    10.138324\n",
       "Slovakia             11.085120\n",
       "Spain                15.526342\n",
       "Sweden                7.561647\n",
       "Switzerland          10.250461\n",
       "The Netherlands      10.714270\n",
       "Ukraine               9.041346\n",
       "United Kingdom       10.962260\n",
       "Yugoslavia           12.516782\n",
       "Name: Temperature, dtype: float64"
      ]
     },
     "execution_count": 13,
     "metadata": {},
     "output_type": "execute_result"
    }
   ],
   "source": [
    "# Average temperature by countries\n",
    "average_temp=df5.groupby('Country')[\"Temperature\"].mean()\n",
    "average_temp"
   ]
  },
  {
   "cell_type": "code",
   "execution_count": 14,
   "metadata": {},
   "outputs": [
    {
     "data": {
      "text/plain": [
       "2000    15750\n",
       "2001    15645\n",
       "2002    15466\n",
       "1999    15328\n",
       "1997    15304\n",
       "2003    15247\n",
       "1998    15225\n",
       "2004    15081\n",
       "2005    15034\n",
       "1995    15000\n",
       "1996    14921\n",
       "2008    14846\n",
       "2011    14682\n",
       "2006    14632\n",
       "2007    14417\n",
       "2010    14394\n",
       "2009    14358\n",
       "2012    13658\n",
       "2018    13601\n",
       "2019    13542\n",
       "2013    13497\n",
       "2015    13464\n",
       "2017    13462\n",
       "2014    13458\n",
       "2016    13386\n",
       "2020     4941\n",
       "Name: Year, dtype: int64"
      ]
     },
     "execution_count": 14,
     "metadata": {},
     "output_type": "execute_result"
    }
   ],
   "source": [
    "df5[\"Year\"].value_counts()"
   ]
  },
  {
   "cell_type": "markdown",
   "metadata": {},
   "source": [
    "We can see that we have significant less temperature measures in 2020 so because of that we will drop those rows when we will preparing dataset for model."
   ]
  },
  {
   "cell_type": "code",
   "execution_count": 15,
   "metadata": {},
   "outputs": [
    {
     "data": {
      "text/plain": [
       "array([1997, 1998, 1999, 2000, 2001, 2002, 2003, 2004, 2005, 2006, 2007,\n",
       "       2008, 2009, 2010, 2011, 2012, 2013, 2014, 2015, 2016, 2017, 2018,\n",
       "       2019, 2020, 1995, 1996])"
      ]
     },
     "execution_count": 15,
     "metadata": {},
     "output_type": "execute_result"
    }
   ],
   "source": [
    "df5[\"Year\"].unique()"
   ]
  },
  {
   "cell_type": "code",
   "execution_count": 16,
   "metadata": {},
   "outputs": [
    {
     "data": {
      "text/plain": [
       "Year\n",
       "1995    10.886200\n",
       "1996    10.169761\n",
       "1997    10.824098\n",
       "1998    11.053005\n",
       "1999    11.268072\n",
       "2000    11.685143\n",
       "2001    11.118760\n",
       "2002    11.430493\n",
       "2003    11.287598\n",
       "2004    10.991314\n",
       "2005    10.979181\n",
       "2006    11.275560\n",
       "2007    11.627038\n",
       "2008    11.379025\n",
       "2009    11.331940\n",
       "2010    10.383007\n",
       "2011    11.324343\n",
       "2012    10.875531\n",
       "2013    10.677854\n",
       "2014    11.550899\n",
       "2015    11.455957\n",
       "2016    11.139399\n",
       "2017    11.158669\n",
       "2018    11.583192\n",
       "2019    11.594742\n",
       "2020     7.333738\n",
       "Name: Temperature, dtype: float64"
      ]
     },
     "execution_count": 16,
     "metadata": {},
     "output_type": "execute_result"
    }
   ],
   "source": [
    "# Average temperature by year\n",
    "average_temp=df5.groupby('Year')[\"Temperature\"].mean()\n",
    "average_temp"
   ]
  },
  {
   "cell_type": "code",
   "execution_count": 17,
   "metadata": {},
   "outputs": [
    {
     "data": {
      "text/plain": [
       "count    368339.000000\n",
       "mean         15.704677\n",
       "std           8.798720\n",
       "min           1.000000\n",
       "25%           8.000000\n",
       "50%          16.000000\n",
       "75%          23.000000\n",
       "max          31.000000\n",
       "Name: Day, dtype: float64"
      ]
     },
     "execution_count": 17,
     "metadata": {},
     "output_type": "execute_result"
    }
   ],
   "source": [
    "df5[\"Day\"].describe()"
   ]
  },
  {
   "cell_type": "code",
   "execution_count": 18,
   "metadata": {},
   "outputs": [
    {
     "data": {
      "text/plain": [
       "count    368339.000000\n",
       "mean          6.463437\n",
       "std           3.453168\n",
       "min           1.000000\n",
       "25%           3.000000\n",
       "50%           6.000000\n",
       "75%           9.000000\n",
       "max          12.000000\n",
       "Name: Month, dtype: float64"
      ]
     },
     "execution_count": 18,
     "metadata": {},
     "output_type": "execute_result"
    }
   ],
   "source": [
    "df5[\"Month\"].describe()"
   ]
  },
  {
   "cell_type": "code",
   "execution_count": 19,
   "metadata": {
    "scrolled": true
   },
   "outputs": [
    {
     "data": {
      "text/plain": [
       "count    368339.000000\n",
       "mean         11.108870\n",
       "std           8.381672\n",
       "min         -18.000000\n",
       "25%           5.000000\n",
       "50%          12.000000\n",
       "75%          17.000000\n",
       "max          39.000000\n",
       "Name: Temperature, dtype: float64"
      ]
     },
     "execution_count": 19,
     "metadata": {},
     "output_type": "execute_result"
    }
   ],
   "source": [
    "df5[\"Temperature\"].describe()"
   ]
  },
  {
   "cell_type": "markdown",
   "metadata": {},
   "source": [
    "## Outliers search"
   ]
  },
  {
   "cell_type": "code",
   "execution_count": 20,
   "metadata": {},
   "outputs": [
    {
     "data": {
      "text/plain": [
       "(368339, 8)"
      ]
     },
     "execution_count": 20,
     "metadata": {},
     "output_type": "execute_result"
    }
   ],
   "source": [
    "df5.shape"
   ]
  },
  {
   "cell_type": "code",
   "execution_count": 21,
   "metadata": {
    "scrolled": false
   },
   "outputs": [
    {
     "data": {
      "text/plain": [
       "{'whiskers': [<matplotlib.lines.Line2D at 0x7f8b5976bcd0>,\n",
       "  <matplotlib.lines.Line2D at 0x7f8b59702070>],\n",
       " 'caps': [<matplotlib.lines.Line2D at 0x7f8b597023d0>,\n",
       "  <matplotlib.lines.Line2D at 0x7f8b59702730>],\n",
       " 'boxes': [<matplotlib.lines.Line2D at 0x7f8b5976b970>],\n",
       " 'medians': [<matplotlib.lines.Line2D at 0x7f8b59702a90>],\n",
       " 'fliers': [<matplotlib.lines.Line2D at 0x7f8b59702df0>],\n",
       " 'means': []}"
      ]
     },
     "execution_count": 21,
     "metadata": {},
     "output_type": "execute_result"
    },
    {
     "data": {
      "image/png": "[encoded data removed]",
      "text/plain": [
       "<Figure size 432x288 with 1 Axes>"
      ]
     },
     "metadata": {
      "needs_background": "light"
     },
     "output_type": "display_data"
    }
   ],
   "source": [
    "plt.boxplot(df5['Temperature'])"
   ]
  },
  {
   "cell_type": "code",
   "execution_count": 22,
   "metadata": {},
   "outputs": [
    {
     "data": {
      "text/plain": [
       "35.0"
      ]
     },
     "execution_count": 22,
     "metadata": {},
     "output_type": "execute_result"
    }
   ],
   "source": [
    "# Upper outlier threshold  Q3 + 1.5(IQR)\n",
    "max_threshold=17 + 1.5*(17 - 5)\n",
    "max_threshold"
   ]
  },
  {
   "cell_type": "code",
   "execution_count": 23,
   "metadata": {
    "scrolled": true
   },
   "outputs": [
    {
     "data": {
      "text/plain": [
       "(9, 8)"
      ]
     },
     "execution_count": 23,
     "metadata": {},
     "output_type": "execute_result"
    }
   ],
   "source": [
    "#how many outliers do we have (values greater than max_threshold)\n",
    "outliers=df5[df5.Temperature>max_threshold]\n",
    "outliers.shape"
   ]
  },
  {
   "cell_type": "code",
   "execution_count": 24,
   "metadata": {},
   "outputs": [
    {
     "data": {
      "text/plain": [
       "count    368316.000000\n",
       "mean         11.107332\n",
       "std           8.379669\n",
       "min         -18.000000\n",
       "25%           5.000000\n",
       "50%          12.000000\n",
       "75%          17.000000\n",
       "max          34.000000\n",
       "Name: Temperature, dtype: float64"
      ]
     },
     "execution_count": 24,
     "metadata": {},
     "output_type": "execute_result"
    }
   ],
   "source": [
    "# Removing outliers\n",
    "df6=df5[df5.Temperature<max_threshold]\n",
    "# recalculate summary statistics\n",
    "df6['Temperature'].describe()"
   ]
  },
  {
   "cell_type": "code",
   "execution_count": 25,
   "metadata": {},
   "outputs": [
    {
     "data": {
      "text/plain": [
       "-13.0"
      ]
     },
     "execution_count": 25,
     "metadata": {},
     "output_type": "execute_result"
    }
   ],
   "source": [
    "#Lower Outlier Threshold = Q1 – 1.5(IQR)\n",
    "lower_threshold= 5 - 1.5*(17-5)\n",
    "lower_threshold"
   ]
  },
  {
   "cell_type": "code",
   "execution_count": 26,
   "metadata": {},
   "outputs": [
    {
     "data": {
      "text/plain": [
       "count    366984.00000\n",
       "mean         11.20057\n",
       "std           8.24999\n",
       "min         -12.00000\n",
       "25%           5.00000\n",
       "50%          12.00000\n",
       "75%          17.00000\n",
       "max          34.00000\n",
       "Name: Temperature, dtype: float64"
      ]
     },
     "execution_count": 26,
     "metadata": {},
     "output_type": "execute_result"
    }
   ],
   "source": [
    "# Removing outliers\n",
    "df7=df6[df6.Temperature>lower_threshold]\n",
    "# recaculate summary statistics\n",
    "df7['Temperature'].describe()"
   ]
  },
  {
   "cell_type": "code",
   "execution_count": 27,
   "metadata": {
    "scrolled": false
   },
   "outputs": [
    {
     "data": {
      "text/plain": [
       "{'whiskers': [<matplotlib.lines.Line2D at 0x7f8b5965c8e0>,\n",
       "  <matplotlib.lines.Line2D at 0x7f8b5965cc40>],\n",
       " 'caps': [<matplotlib.lines.Line2D at 0x7f8b5965cfa0>,\n",
       "  <matplotlib.lines.Line2D at 0x7f8b59668340>],\n",
       " 'boxes': [<matplotlib.lines.Line2D at 0x7f8b5965c580>],\n",
       " 'medians': [<matplotlib.lines.Line2D at 0x7f8b596686a0>],\n",
       " 'fliers': [<matplotlib.lines.Line2D at 0x7f8b59668a00>],\n",
       " 'means': []}"
      ]
     },
     "execution_count": 27,
     "metadata": {},
     "output_type": "execute_result"
    },
    {
     "data": {
      "image/png": "[encoded data removed]",
      "text/plain": [
       "<Figure size 432x288 with 1 Axes>"
      ]
     },
     "metadata": {
      "needs_background": "light"
     },
     "output_type": "display_data"
    }
   ],
   "source": [
    "plt.boxplot(df7['Temperature'])"
   ]
  },
  {
   "cell_type": "code",
   "execution_count": 28,
   "metadata": {},
   "outputs": [
    {
     "data": {
      "text/plain": [
       "(366984, 8)"
      ]
     },
     "execution_count": 28,
     "metadata": {},
     "output_type": "execute_result"
    }
   ],
   "source": [
    "df7.shape"
   ]
  },
  {
   "cell_type": "markdown",
   "metadata": {},
   "source": [
    "## Data visualization"
   ]
  },
  {
   "cell_type": "code",
   "execution_count": 29,
   "metadata": {},
   "outputs": [
    {
     "data": {
      "image/png": "[encoded data removed]",
      "text/plain": [
       "<Figure size 432x288 with 1 Axes>"
      ]
     },
     "metadata": {
      "needs_background": "light"
     },
     "output_type": "display_data"
    }
   ],
   "source": [
    "#Bar plot of  average temp per month \n",
    "df7.groupby(\"Month\")[\"Temperature\"].mean().plot.bar(color=['black', 'red', 'green', 'blue', 'cyan',\"magenta\",\"yellow\"])\n",
    "plt.xlabel(\"Temperature\")\n",
    "plt.show()"
   ]
  },
  {
   "cell_type": "code",
   "execution_count": 30,
   "metadata": {},
   "outputs": [
    {
     "data": {
      "text/plain": [
       "<AxesSubplot:xlabel='Country'>"
      ]
     },
     "execution_count": 30,
     "metadata": {},
     "output_type": "execute_result"
    },
    {
     "data": {
      "image/png": "[encoded data removed]",
      "text/plain": [
       "<Figure size 864x576 with 1 Axes>"
      ]
     },
     "metadata": {
      "needs_background": "light"
     },
     "output_type": "display_data"
    }
   ],
   "source": [
    "# Average temperature by countries in Europe\n",
    "country=df7.groupby(\"Country\")[\"Temperature\"].mean().reset_index(\"Country\")\n",
    "color = cm.inferno_r(np.linspace(.4, .8, 30))\n",
    "country=country.sort_values(\"Temperature\" , ascending=[False])\n",
    "country.plot.bar(x=\"Country\", y='Temperature', color=color , figsize=(12,8))"
   ]
  },
  {
   "cell_type": "code",
   "execution_count": 31,
   "metadata": {},
   "outputs": [],
   "source": [
    "#United Kingdom in december dataframe\n",
    "uk=df7[(df7[\"Country\"]==\"United Kingdom\")&(df7[\"Month\"]==12)]"
   ]
  },
  {
   "cell_type": "code",
   "execution_count": 32,
   "metadata": {
    "scrolled": true
   },
   "outputs": [
    {
     "data": {
      "image/png": "[encoded data removed]",
      "text/plain": [
       "<Figure size 1296x576 with 1 Axes>"
      ]
     },
     "metadata": {
      "needs_background": "light"
     },
     "output_type": "display_data"
    }
   ],
   "source": [
    "plt.figure(figsize=(18,8))\n",
    "sns.stripplot(x=\"Day\",y=\"Temperature\",data=uk)\n",
    "plt.title(\"Temperature by day in December (United Kingdom)\")\n",
    "plt.show()"
   ]
  },
  {
   "cell_type": "code",
   "execution_count": 33,
   "metadata": {},
   "outputs": [],
   "source": [
    "croatia=df7[df7[\"Country\"]==\"Croatia\"]\n",
    "cro_20=croatia[croatia[\"Year\"]==2000]\n",
    "cro_05=croatia[croatia[\"Year\"]==2005]\n",
    "cro_10=croatia[croatia[\"Year\"]==2010]\n",
    "cro_15=croatia[croatia[\"Year\"]==2015]\n",
    "\n",
    "months=[1,2,3,4,5,6,7,8,9,10,11,12]\n",
    "\n",
    "\n",
    "temp_20=cro_20.groupby(\"Month\")[\"Temperature\"].mean()\n",
    "temp_05=cro_05.groupby(\"Month\")[\"Temperature\"].mean()\n",
    "temp_10=cro_10.groupby(\"Month\")[\"Temperature\"].mean()\n",
    "temp_15=cro_15.groupby(\"Month\")[\"Temperature\"].mean()"
   ]
  },
  {
   "cell_type": "code",
   "execution_count": 34,
   "metadata": {},
   "outputs": [
    {
     "data": {
      "text/plain": [
       "<matplotlib.legend.Legend at 0x7f8b593135e0>"
      ]
     },
     "execution_count": 34,
     "metadata": {},
     "output_type": "execute_result"
    },
    {
     "data": {
      "image/png": "[encoded data removed]",
      "text/plain": [
       "<Figure size 1080x720 with 1 Axes>"
      ]
     },
     "metadata": {
      "needs_background": "light"
     },
     "output_type": "display_data"
    }
   ],
   "source": [
    "plt.figure(figsize=(15,10))\n",
    "plt.xlabel(\"Months\")\n",
    "plt.ylabel(\"Average Temperature\")\n",
    "plt.title(\"Average temperature by months \")\n",
    "plt.plot(months,temp_20, label=\"Year 2000\")\n",
    "plt.plot(months,temp_05, label=\"Year 2005\")\n",
    "plt.plot(months,temp_10,label=\"Year 2010\")\n",
    "plt.plot(months,temp_15,label=\"Year 2015\")\n",
    "plt.legend()\n"
   ]
  },
  {
   "cell_type": "markdown",
   "metadata": {},
   "source": [
    "## Preparing dataset for model"
   ]
  },
  {
   "cell_type": "code",
   "execution_count": 72,
   "metadata": {
    "scrolled": true
   },
   "outputs": [
    {
     "data": {
      "text/html": [
       "<div>\n",
       "<style scoped>\n",
       "    .dataframe tbody tr th:only-of-type {\n",
       "        vertical-align: middle;\n",
       "    }\n",
       "\n",
       "    .dataframe tbody tr th {\n",
       "        vertical-align: top;\n",
       "    }\n",
       "\n",
       "    .dataframe thead th {\n",
       "        text-align: right;\n",
       "    }\n",
       "</style>\n",
       "<table border=\"1\" class=\"dataframe\">\n",
       "  <thead>\n",
       "    <tr style=\"text-align: right;\">\n",
       "      <th></th>\n",
       "      <th>Region</th>\n",
       "      <th>Country</th>\n",
       "      <th>City</th>\n",
       "      <th>Month</th>\n",
       "      <th>Day</th>\n",
       "      <th>Year</th>\n",
       "      <th>AvgTemperature</th>\n",
       "      <th>Temperature</th>\n",
       "    </tr>\n",
       "  </thead>\n",
       "  <tbody>\n",
       "    <tr>\n",
       "      <th>624218</th>\n",
       "      <td>Europe</td>\n",
       "      <td>Albania</td>\n",
       "      <td>Tirana</td>\n",
       "      <td>4</td>\n",
       "      <td>21</td>\n",
       "      <td>1997</td>\n",
       "      <td>55.4</td>\n",
       "      <td>13.0</td>\n",
       "    </tr>\n",
       "    <tr>\n",
       "      <th>624222</th>\n",
       "      <td>Europe</td>\n",
       "      <td>Albania</td>\n",
       "      <td>Tirana</td>\n",
       "      <td>4</td>\n",
       "      <td>25</td>\n",
       "      <td>1997</td>\n",
       "      <td>56.8</td>\n",
       "      <td>14.0</td>\n",
       "    </tr>\n",
       "    <tr>\n",
       "      <th>624223</th>\n",
       "      <td>Europe</td>\n",
       "      <td>Albania</td>\n",
       "      <td>Tirana</td>\n",
       "      <td>4</td>\n",
       "      <td>26</td>\n",
       "      <td>1997</td>\n",
       "      <td>61.5</td>\n",
       "      <td>16.0</td>\n",
       "    </tr>\n",
       "    <tr>\n",
       "      <th>624224</th>\n",
       "      <td>Europe</td>\n",
       "      <td>Albania</td>\n",
       "      <td>Tirana</td>\n",
       "      <td>4</td>\n",
       "      <td>27</td>\n",
       "      <td>1997</td>\n",
       "      <td>60.8</td>\n",
       "      <td>16.0</td>\n",
       "    </tr>\n",
       "    <tr>\n",
       "      <th>624225</th>\n",
       "      <td>Europe</td>\n",
       "      <td>Albania</td>\n",
       "      <td>Tirana</td>\n",
       "      <td>4</td>\n",
       "      <td>28</td>\n",
       "      <td>1997</td>\n",
       "      <td>57.2</td>\n",
       "      <td>14.0</td>\n",
       "    </tr>\n",
       "  </tbody>\n",
       "</table>\n",
       "</div>"
      ],
      "text/plain": [
       "        Region  Country    City  Month  Day  Year  AvgTemperature  Temperature\n",
       "624218  Europe  Albania  Tirana      4   21  1997            55.4         13.0\n",
       "624222  Europe  Albania  Tirana      4   25  1997            56.8         14.0\n",
       "624223  Europe  Albania  Tirana      4   26  1997            61.5         16.0\n",
       "624224  Europe  Albania  Tirana      4   27  1997            60.8         16.0\n",
       "624225  Europe  Albania  Tirana      4   28  1997            57.2         14.0"
      ]
     },
     "execution_count": 72,
     "metadata": {},
     "output_type": "execute_result"
    }
   ],
   "source": [
    "df7.head()"
   ]
  },
  {
   "cell_type": "code",
   "execution_count": 74,
   "metadata": {},
   "outputs": [
    {
     "data": {
      "text/html": [
       "<div>\n",
       "<style scoped>\n",
       "    .dataframe tbody tr th:only-of-type {\n",
       "        vertical-align: middle;\n",
       "    }\n",
       "\n",
       "    .dataframe tbody tr th {\n",
       "        vertical-align: top;\n",
       "    }\n",
       "\n",
       "    .dataframe thead th {\n",
       "        text-align: right;\n",
       "    }\n",
       "</style>\n",
       "<table border=\"1\" class=\"dataframe\">\n",
       "  <thead>\n",
       "    <tr style=\"text-align: right;\">\n",
       "      <th></th>\n",
       "      <th>Country</th>\n",
       "      <th>City</th>\n",
       "      <th>Month</th>\n",
       "      <th>Day</th>\n",
       "      <th>Year</th>\n",
       "      <th>Temperature</th>\n",
       "    </tr>\n",
       "  </thead>\n",
       "  <tbody>\n",
       "    <tr>\n",
       "      <th>624218</th>\n",
       "      <td>Albania</td>\n",
       "      <td>Tirana</td>\n",
       "      <td>4</td>\n",
       "      <td>21</td>\n",
       "      <td>1997</td>\n",
       "      <td>13.0</td>\n",
       "    </tr>\n",
       "    <tr>\n",
       "      <th>624222</th>\n",
       "      <td>Albania</td>\n",
       "      <td>Tirana</td>\n",
       "      <td>4</td>\n",
       "      <td>25</td>\n",
       "      <td>1997</td>\n",
       "      <td>14.0</td>\n",
       "    </tr>\n",
       "    <tr>\n",
       "      <th>624223</th>\n",
       "      <td>Albania</td>\n",
       "      <td>Tirana</td>\n",
       "      <td>4</td>\n",
       "      <td>26</td>\n",
       "      <td>1997</td>\n",
       "      <td>16.0</td>\n",
       "    </tr>\n",
       "    <tr>\n",
       "      <th>624224</th>\n",
       "      <td>Albania</td>\n",
       "      <td>Tirana</td>\n",
       "      <td>4</td>\n",
       "      <td>27</td>\n",
       "      <td>1997</td>\n",
       "      <td>16.0</td>\n",
       "    </tr>\n",
       "    <tr>\n",
       "      <th>624225</th>\n",
       "      <td>Albania</td>\n",
       "      <td>Tirana</td>\n",
       "      <td>4</td>\n",
       "      <td>28</td>\n",
       "      <td>1997</td>\n",
       "      <td>14.0</td>\n",
       "    </tr>\n",
       "  </tbody>\n",
       "</table>\n",
       "</div>"
      ],
      "text/plain": [
       "        Country    City  Month  Day  Year  Temperature\n",
       "624218  Albania  Tirana      4   21  1997         13.0\n",
       "624222  Albania  Tirana      4   25  1997         14.0\n",
       "624223  Albania  Tirana      4   26  1997         16.0\n",
       "624224  Albania  Tirana      4   27  1997         16.0\n",
       "624225  Albania  Tirana      4   28  1997         14.0"
      ]
     },
     "execution_count": 74,
     "metadata": {},
     "output_type": "execute_result"
    }
   ],
   "source": [
    "#droping useless columns\n",
    "df8=df7.drop([\"AvgTemperature\",\"Region\"],axis=1)\n",
    "df8.head()"
   ]
  },
  {
   "cell_type": "code",
   "execution_count": 75,
   "metadata": {},
   "outputs": [],
   "source": [
    "# define a function to discover columns with categorical varibales\n",
    "\n",
    "def discover_categorical_columns(df):\n",
    "    \"\"\"\n",
    "    This function takes dataframe as an input, goes through columns in a dataframe to check if column is of an object type.\n",
    "    If the colunm is of an object type it means column contains categorical variables. Function than prints all unique \n",
    "    categorical values of a column\n",
    "    \n",
    "    Args: \n",
    "        df (pd.DataFrame) - only requried argument for the function\n",
    "        \n",
    "    Returns:\n",
    "        Prints unique categorical values for object type columns.\n",
    "    \"\"\"\n",
    "    for column in df:\n",
    "        if df[column].dtype=='object':\n",
    "            print('{} : {}'.format(column, df[column].unique()))"
   ]
  },
  {
   "cell_type": "code",
   "execution_count": 76,
   "metadata": {},
   "outputs": [
    {
     "name": "stdout",
     "output_type": "stream",
     "text": [
      "Country : ['Albania' 'Austria' 'Belarus' 'Belgium' 'Bulgaria' 'Croatia' 'Cyprus'\n",
      " 'Czech Republic' 'Denmark' 'Finland' 'France' 'Germany' 'Georgia'\n",
      " 'Greece' 'Hungary' 'Iceland' 'Ireland' 'Italy' 'Latvia' 'Macedonia'\n",
      " 'The Netherlands' 'Norway' 'Poland' 'Portugal' 'Romania' 'Russia'\n",
      " 'Serbia-Montenegro' 'Slovakia' 'Spain' 'Sweden' 'Switzerland' 'Ukraine'\n",
      " 'United Kingdom' 'Yugoslavia']\n",
      "City : ['Tirana' 'Vienna' 'Minsk' 'Brussels' 'Sofia' 'Zagreb' 'Nicosia' 'Prague'\n",
      " 'Copenhagen' 'Helsinki' 'Paris' 'Bordeaux' 'Bonn' 'Frankfurt' 'Hamburg'\n",
      " 'Munich' 'Tbilisi' 'Athens' 'Budapest' 'Reykjavik' 'Dublin' 'Milan'\n",
      " 'Rome' 'Riga' 'Skopje' 'Amsterdam' 'Oslo' 'Warsaw' 'Lisbon' 'Bucharest'\n",
      " 'Moscow' 'Yerevan' 'Pristina' 'Bratislava' 'Barcelona' 'Bilbao' 'Madrid'\n",
      " 'Stockholm' 'Bern' 'Geneva' 'Zurich' 'Kiev' 'Belfast' 'London' 'Belgrade']\n"
     ]
    }
   ],
   "source": [
    "discover_categorical_columns(df8)"
   ]
  },
  {
   "cell_type": "code",
   "execution_count": 77,
   "metadata": {},
   "outputs": [],
   "source": [
    "#function for creating dummy column\n",
    "def create_dummies(df,column_name):\n",
    "    dummies=pd.get_dummies(df[column_name],prefix=column_name)\n",
    "    df=pd.concat([df,dummies],axis=1)\n",
    "    return df"
   ]
  },
  {
   "cell_type": "code",
   "execution_count": 78,
   "metadata": {},
   "outputs": [],
   "source": [
    "#dummy columns\n",
    "df9=create_dummies(df8,\"Country\")\n",
    "df10=df9.drop([\"Country\"],axis=1)\n",
    "\n",
    "df11=create_dummies(df10,\"City\")\n",
    "df12=df11.drop([\"City\"],axis=1)\n"
   ]
  },
  {
   "cell_type": "code",
   "execution_count": 80,
   "metadata": {
    "scrolled": true
   },
   "outputs": [
    {
     "data": {
      "text/html": [
       "<div>\n",
       "<style scoped>\n",
       "    .dataframe tbody tr th:only-of-type {\n",
       "        vertical-align: middle;\n",
       "    }\n",
       "\n",
       "    .dataframe tbody tr th {\n",
       "        vertical-align: top;\n",
       "    }\n",
       "\n",
       "    .dataframe thead th {\n",
       "        text-align: right;\n",
       "    }\n",
       "</style>\n",
       "<table border=\"1\" class=\"dataframe\">\n",
       "  <thead>\n",
       "    <tr style=\"text-align: right;\">\n",
       "      <th></th>\n",
       "      <th>Month</th>\n",
       "      <th>Day</th>\n",
       "      <th>Year</th>\n",
       "      <th>Temperature</th>\n",
       "      <th>Country_Albania</th>\n",
       "      <th>Country_Austria</th>\n",
       "      <th>Country_Belarus</th>\n",
       "      <th>Country_Belgium</th>\n",
       "      <th>Country_Bulgaria</th>\n",
       "      <th>Country_Croatia</th>\n",
       "      <th>...</th>\n",
       "      <th>City_Skopje</th>\n",
       "      <th>City_Sofia</th>\n",
       "      <th>City_Stockholm</th>\n",
       "      <th>City_Tbilisi</th>\n",
       "      <th>City_Tirana</th>\n",
       "      <th>City_Vienna</th>\n",
       "      <th>City_Warsaw</th>\n",
       "      <th>City_Yerevan</th>\n",
       "      <th>City_Zagreb</th>\n",
       "      <th>City_Zurich</th>\n",
       "    </tr>\n",
       "  </thead>\n",
       "  <tbody>\n",
       "    <tr>\n",
       "      <th>624218</th>\n",
       "      <td>4</td>\n",
       "      <td>21</td>\n",
       "      <td>1997</td>\n",
       "      <td>13.0</td>\n",
       "      <td>1</td>\n",
       "      <td>0</td>\n",
       "      <td>0</td>\n",
       "      <td>0</td>\n",
       "      <td>0</td>\n",
       "      <td>0</td>\n",
       "      <td>...</td>\n",
       "      <td>0</td>\n",
       "      <td>0</td>\n",
       "      <td>0</td>\n",
       "      <td>0</td>\n",
       "      <td>1</td>\n",
       "      <td>0</td>\n",
       "      <td>0</td>\n",
       "      <td>0</td>\n",
       "      <td>0</td>\n",
       "      <td>0</td>\n",
       "    </tr>\n",
       "    <tr>\n",
       "      <th>624222</th>\n",
       "      <td>4</td>\n",
       "      <td>25</td>\n",
       "      <td>1997</td>\n",
       "      <td>14.0</td>\n",
       "      <td>1</td>\n",
       "      <td>0</td>\n",
       "      <td>0</td>\n",
       "      <td>0</td>\n",
       "      <td>0</td>\n",
       "      <td>0</td>\n",
       "      <td>...</td>\n",
       "      <td>0</td>\n",
       "      <td>0</td>\n",
       "      <td>0</td>\n",
       "      <td>0</td>\n",
       "      <td>1</td>\n",
       "      <td>0</td>\n",
       "      <td>0</td>\n",
       "      <td>0</td>\n",
       "      <td>0</td>\n",
       "      <td>0</td>\n",
       "    </tr>\n",
       "    <tr>\n",
       "      <th>624223</th>\n",
       "      <td>4</td>\n",
       "      <td>26</td>\n",
       "      <td>1997</td>\n",
       "      <td>16.0</td>\n",
       "      <td>1</td>\n",
       "      <td>0</td>\n",
       "      <td>0</td>\n",
       "      <td>0</td>\n",
       "      <td>0</td>\n",
       "      <td>0</td>\n",
       "      <td>...</td>\n",
       "      <td>0</td>\n",
       "      <td>0</td>\n",
       "      <td>0</td>\n",
       "      <td>0</td>\n",
       "      <td>1</td>\n",
       "      <td>0</td>\n",
       "      <td>0</td>\n",
       "      <td>0</td>\n",
       "      <td>0</td>\n",
       "      <td>0</td>\n",
       "    </tr>\n",
       "    <tr>\n",
       "      <th>624224</th>\n",
       "      <td>4</td>\n",
       "      <td>27</td>\n",
       "      <td>1997</td>\n",
       "      <td>16.0</td>\n",
       "      <td>1</td>\n",
       "      <td>0</td>\n",
       "      <td>0</td>\n",
       "      <td>0</td>\n",
       "      <td>0</td>\n",
       "      <td>0</td>\n",
       "      <td>...</td>\n",
       "      <td>0</td>\n",
       "      <td>0</td>\n",
       "      <td>0</td>\n",
       "      <td>0</td>\n",
       "      <td>1</td>\n",
       "      <td>0</td>\n",
       "      <td>0</td>\n",
       "      <td>0</td>\n",
       "      <td>0</td>\n",
       "      <td>0</td>\n",
       "    </tr>\n",
       "    <tr>\n",
       "      <th>624225</th>\n",
       "      <td>4</td>\n",
       "      <td>28</td>\n",
       "      <td>1997</td>\n",
       "      <td>14.0</td>\n",
       "      <td>1</td>\n",
       "      <td>0</td>\n",
       "      <td>0</td>\n",
       "      <td>0</td>\n",
       "      <td>0</td>\n",
       "      <td>0</td>\n",
       "      <td>...</td>\n",
       "      <td>0</td>\n",
       "      <td>0</td>\n",
       "      <td>0</td>\n",
       "      <td>0</td>\n",
       "      <td>1</td>\n",
       "      <td>0</td>\n",
       "      <td>0</td>\n",
       "      <td>0</td>\n",
       "      <td>0</td>\n",
       "      <td>0</td>\n",
       "    </tr>\n",
       "  </tbody>\n",
       "</table>\n",
       "<p>5 rows × 83 columns</p>\n",
       "</div>"
      ],
      "text/plain": [
       "        Month  Day  Year  Temperature  Country_Albania  Country_Austria  \\\n",
       "624218      4   21  1997         13.0                1                0   \n",
       "624222      4   25  1997         14.0                1                0   \n",
       "624223      4   26  1997         16.0                1                0   \n",
       "624224      4   27  1997         16.0                1                0   \n",
       "624225      4   28  1997         14.0                1                0   \n",
       "\n",
       "        Country_Belarus  Country_Belgium  Country_Bulgaria  Country_Croatia  \\\n",
       "624218                0                0                 0                0   \n",
       "624222                0                0                 0                0   \n",
       "624223                0                0                 0                0   \n",
       "624224                0                0                 0                0   \n",
       "624225                0                0                 0                0   \n",
       "\n",
       "        ...  City_Skopje  City_Sofia  City_Stockholm  City_Tbilisi  \\\n",
       "624218  ...            0           0               0             0   \n",
       "624222  ...            0           0               0             0   \n",
       "624223  ...            0           0               0             0   \n",
       "624224  ...            0           0               0             0   \n",
       "624225  ...            0           0               0             0   \n",
       "\n",
       "        City_Tirana  City_Vienna  City_Warsaw  City_Yerevan  City_Zagreb  \\\n",
       "624218            1            0            0             0            0   \n",
       "624222            1            0            0             0            0   \n",
       "624223            1            0            0             0            0   \n",
       "624224            1            0            0             0            0   \n",
       "624225            1            0            0             0            0   \n",
       "\n",
       "        City_Zurich  \n",
       "624218            0  \n",
       "624222            0  \n",
       "624223            0  \n",
       "624224            0  \n",
       "624225            0  \n",
       "\n",
       "[5 rows x 83 columns]"
      ]
     },
     "execution_count": 80,
     "metadata": {},
     "output_type": "execute_result"
    }
   ],
   "source": [
    "df12.head()"
   ]
  },
  {
   "cell_type": "code",
   "execution_count": 133,
   "metadata": {
    "scrolled": true
   },
   "outputs": [
    {
     "data": {
      "text/plain": [
       "array([1997, 1998, 1999, 2000, 2001, 2002, 2003, 2004, 2005, 2006, 2007,\n",
       "       2008, 2009, 2010, 2011, 2012, 2013, 2014, 2015, 2016, 2017, 2018,\n",
       "       2019, 1995, 1996])"
      ]
     },
     "execution_count": 133,
     "metadata": {},
     "output_type": "execute_result"
    }
   ],
   "source": [
    "#droping rows with 2020 temperature measure\n",
    "df13=df12[df12[\"Year\"]!=2020]\n",
    "df13[\"Year\"].unique()"
   ]
  },
  {
   "cell_type": "code",
   "execution_count": 134,
   "metadata": {},
   "outputs": [
    {
     "data": {
      "text/plain": [
       "(362043, 83)"
      ]
     },
     "execution_count": 134,
     "metadata": {},
     "output_type": "execute_result"
    }
   ],
   "source": [
    "df13.shape"
   ]
  },
  {
   "cell_type": "markdown",
   "metadata": {},
   "source": [
    "## Spliting dataset"
   ]
  },
  {
   "cell_type": "code",
   "execution_count": 95,
   "metadata": {},
   "outputs": [],
   "source": [
    "from sklearn.model_selection import train_test_split"
   ]
  },
  {
   "cell_type": "code",
   "execution_count": 96,
   "metadata": {},
   "outputs": [],
   "source": [
    "# Defining features and  target column< \n",
    "X = df13.drop(columns='Temperature', axis ='columns')\n",
    "y = df13.Temperature"
   ]
  },
  {
   "cell_type": "code",
   "execution_count": 97,
   "metadata": {},
   "outputs": [],
   "source": [
    "#Splitting our data on train and test\n",
    "train_X,test_X,train_y,test_y=train_test_split(X,y,train_size=0.8,random_state=10)"
   ]
  },
  {
   "cell_type": "markdown",
   "metadata": {},
   "source": [
    "## Scaling data"
   ]
  },
  {
   "cell_type": "code",
   "execution_count": 98,
   "metadata": {},
   "outputs": [],
   "source": [
    "# min-max scaling\n",
    "from sklearn.preprocessing import MinMaxScaler, RobustScaler\n",
    "scaler=MinMaxScaler()"
   ]
  },
  {
   "cell_type": "code",
   "execution_count": 99,
   "metadata": {},
   "outputs": [],
   "source": [
    "train_X = scaler.fit_transform(train_X)\n",
    "test_X= scaler.transform(test_X)"
   ]
  },
  {
   "cell_type": "code",
   "execution_count": 109,
   "metadata": {},
   "outputs": [],
   "source": [
    "# import tensorflow libraries\n",
    "from tensorflow.keras.models import Sequential\n",
    "from tensorflow.keras.layers import Dense"
   ]
  },
  {
   "cell_type": "code",
   "execution_count": 101,
   "metadata": {},
   "outputs": [],
   "source": [
    "model = Sequential()\n",
    "\n",
    "model.add(Dense(12,activation=\"relu\"))\n",
    "model.add(Dense(12,activation=\"relu\"))\n",
    "model.add(Dense(12,activation=\"relu\"))\n",
    "model.add(Dense(12,activation=\"relu\"))\n",
    "\n",
    "model.add(Dense(1))\n",
    "\n",
    "model.compile(optimizer=\"adam\",loss=\"mse\")"
   ]
  },
  {
   "cell_type": "code",
   "execution_count": 104,
   "metadata": {
    "scrolled": true
   },
   "outputs": [
    {
     "name": "stdout",
     "output_type": "stream",
     "text": [
      "Epoch 1/50\n",
      "1449/1449 [==============================] - 10s 7ms/step - loss: 12.1502 - val_loss: 11.8440\n",
      "Epoch 2/50\n",
      "1449/1449 [==============================] - 10s 7ms/step - loss: 11.8901 - val_loss: 11.6932\n",
      "Epoch 3/50\n",
      "1449/1449 [==============================] - 10s 7ms/step - loss: 11.7626 - val_loss: 11.6303\n",
      "Epoch 4/50\n",
      "1449/1449 [==============================] - 9s 7ms/step - loss: 11.7303 - val_loss: 11.5843\n",
      "Epoch 5/50\n",
      "1449/1449 [==============================] - 10s 7ms/step - loss: 11.7072 - val_loss: 11.4935\n",
      "Epoch 6/50\n",
      "1449/1449 [==============================] - 9s 6ms/step - loss: 11.6595 - val_loss: 11.5584\n",
      "Epoch 7/50\n",
      "1449/1449 [==============================] - 10s 7ms/step - loss: 11.6515 - val_loss: 11.6849\n",
      "Epoch 8/50\n",
      "1449/1449 [==============================] - 11s 8ms/step - loss: 11.6211 - val_loss: 11.5487\n",
      "Epoch 9/50\n",
      "1449/1449 [==============================] - 10s 7ms/step - loss: 11.5990 - val_loss: 11.5576\n",
      "Epoch 10/50\n",
      "1449/1449 [==============================] - 10s 7ms/step - loss: 11.5597 - val_loss: 11.5283\n",
      "Epoch 11/50\n",
      "1449/1449 [==============================] - 12s 8ms/step - loss: 11.5550 - val_loss: 11.4593\n",
      "Epoch 12/50\n",
      "1449/1449 [==============================] - 11s 8ms/step - loss: 11.5561 - val_loss: 11.5064\n",
      "Epoch 13/50\n",
      "1449/1449 [==============================] - 11s 7ms/step - loss: 11.5327 - val_loss: 11.5551\n",
      "Epoch 14/50\n",
      "1449/1449 [==============================] - 12s 8ms/step - loss: 11.5433 - val_loss: 11.4091\n",
      "Epoch 15/50\n",
      "1449/1449 [==============================] - 13s 9ms/step - loss: 11.5346 - val_loss: 11.5139\n",
      "Epoch 16/50\n",
      "1449/1449 [==============================] - 11s 8ms/step - loss: 11.5123 - val_loss: 11.6558\n",
      "Epoch 17/50\n",
      "1449/1449 [==============================] - 12s 8ms/step - loss: 11.5093 - val_loss: 11.3653\n",
      "Epoch 18/50\n",
      "1449/1449 [==============================] - 13s 9ms/step - loss: 11.5055 - val_loss: 11.4403\n",
      "Epoch 19/50\n",
      "1449/1449 [==============================] - 12s 9ms/step - loss: 11.4824 - val_loss: 11.5110\n",
      "Epoch 20/50\n",
      "1449/1449 [==============================] - 11s 8ms/step - loss: 11.4947 - val_loss: 11.3403\n",
      "Epoch 21/50\n",
      "1449/1449 [==============================] - 13s 9ms/step - loss: 11.4755 - val_loss: 11.4633\n",
      "Epoch 22/50\n",
      "1449/1449 [==============================] - 11s 8ms/step - loss: 11.4702 - val_loss: 11.3915\n",
      "Epoch 23/50\n",
      "1449/1449 [==============================] - 13s 9ms/step - loss: 11.4579 - val_loss: 11.5731\n",
      "Epoch 24/50\n",
      "1449/1449 [==============================] - 12s 9ms/step - loss: 11.4643 - val_loss: 11.3821\n",
      "Epoch 25/50\n",
      "1449/1449 [==============================] - 12s 8ms/step - loss: 11.4528 - val_loss: 11.3670\n",
      "Epoch 26/50\n",
      "1449/1449 [==============================] - 14s 10ms/step - loss: 11.4493 - val_loss: 11.3874\n",
      "Epoch 27/50\n",
      "1449/1449 [==============================] - 13s 9ms/step - loss: 11.4447 - val_loss: 11.3423\n",
      "Epoch 28/50\n",
      "1449/1449 [==============================] - 12s 9ms/step - loss: 11.4428 - val_loss: 11.4120\n",
      "Epoch 29/50\n",
      "1449/1449 [==============================] - 12s 9ms/step - loss: 11.4433 - val_loss: 11.4031\n",
      "Epoch 30/50\n",
      "1449/1449 [==============================] - 12s 8ms/step - loss: 11.4284 - val_loss: 11.3201\n",
      "Epoch 31/50\n",
      "1449/1449 [==============================] - 12s 8ms/step - loss: 11.4194 - val_loss: 11.4315\n",
      "Epoch 32/50\n",
      "1449/1449 [==============================] - 12s 8ms/step - loss: 11.4252 - val_loss: 11.3096\n",
      "Epoch 33/50\n",
      "1449/1449 [==============================] - 13s 9ms/step - loss: 11.4242 - val_loss: 11.2731\n",
      "Epoch 34/50\n",
      "1449/1449 [==============================] - 15s 10ms/step - loss: 11.4137 - val_loss: 11.2996\n",
      "Epoch 35/50\n",
      "1449/1449 [==============================] - 14s 10ms/step - loss: 11.4075 - val_loss: 11.3181\n",
      "Epoch 36/50\n",
      "1449/1449 [==============================] - 13s 9ms/step - loss: 11.4028 - val_loss: 11.2833\n",
      "Epoch 37/50\n",
      "1449/1449 [==============================] - 13s 9ms/step - loss: 11.4061 - val_loss: 11.4244\n",
      "Epoch 38/50\n",
      "1449/1449 [==============================] - 12s 8ms/step - loss: 11.3973 - val_loss: 11.2815\n",
      "Epoch 39/50\n",
      "1449/1449 [==============================] - 10s 7ms/step - loss: 11.3857 - val_loss: 11.2645\n",
      "Epoch 40/50\n",
      "1449/1449 [==============================] - 10s 7ms/step - loss: 11.3951 - val_loss: 11.2423\n",
      "Epoch 41/50\n",
      "1449/1449 [==============================] - 10s 7ms/step - loss: 11.3954 - val_loss: 11.3074\n",
      "Epoch 42/50\n",
      "1449/1449 [==============================] - 11s 7ms/step - loss: 11.3780 - val_loss: 11.3118\n",
      "Epoch 43/50\n",
      "1449/1449 [==============================] - 12s 8ms/step - loss: 11.3777 - val_loss: 11.3577\n",
      "Epoch 44/50\n",
      "1449/1449 [==============================] - 15s 10ms/step - loss: 11.3779 - val_loss: 11.2557\n",
      "Epoch 45/50\n",
      "1449/1449 [==============================] - 15s 10ms/step - loss: 11.3758 - val_loss: 11.2727\n",
      "Epoch 46/50\n",
      "1449/1449 [==============================] - 12s 8ms/step - loss: 11.3682 - val_loss: 11.4859\n",
      "Epoch 47/50\n",
      "1449/1449 [==============================] - 13s 9ms/step - loss: 11.3678 - val_loss: 11.2707\n",
      "Epoch 48/50\n",
      "1449/1449 [==============================] - 15s 10ms/step - loss: 11.3656 - val_loss: 11.3368\n",
      "Epoch 49/50\n",
      "1449/1449 [==============================] - 8s 6ms/step - loss: 11.3659 - val_loss: 11.2731\n",
      "Epoch 50/50\n",
      "1449/1449 [==============================] - 11s 8ms/step - loss: 11.3525 - val_loss: 11.2524\n"
     ]
    },
    {
     "data": {
      "text/plain": [
       "<tensorflow.python.keras.callbacks.History at 0x7f633c4b9400>"
      ]
     },
     "execution_count": 104,
     "metadata": {},
     "output_type": "execute_result"
    }
   ],
   "source": [
    "model.fit(x=train_X, y = train_y,validation_data=(test_X,test_y),batch_size=200,epochs=50)"
   ]
  },
  {
   "cell_type": "code",
   "execution_count": 110,
   "metadata": {},
   "outputs": [
    {
     "name": "stdout",
     "output_type": "stream",
     "text": [
      "2263/2263 [==============================] - 7s 3ms/step - loss: 11.2524\n"
     ]
    },
    {
     "data": {
      "text/plain": [
       "11.252445220947266"
      ]
     },
     "execution_count": 110,
     "metadata": {},
     "output_type": "execute_result"
    }
   ],
   "source": [
    "# evaluate the model on the test set\n",
    "model.evaluate(test_X, test_y)"
   ]
  },
  {
   "cell_type": "code",
   "execution_count": 105,
   "metadata": {},
   "outputs": [
    {
     "data": {
      "text/plain": [
       "<AxesSubplot:>"
      ]
     },
     "execution_count": 105,
     "metadata": {},
     "output_type": "execute_result"
    },
    {
     "data": {
      "image/png": "[encoded data removed]",
      "text/plain": [
       "<Figure size 432x288 with 1 Axes>"
      ]
     },
     "metadata": {
      "needs_background": "light"
     },
     "output_type": "display_data"
    }
   ],
   "source": [
    "#history attribute of training loss values at successive epochs, as well as validation loss values\n",
    "lossData = pd.DataFrame(model.history.history)\n",
    "lossData.plot()"
   ]
  },
  {
   "cell_type": "code",
   "execution_count": 106,
   "metadata": {},
   "outputs": [],
   "source": [
    "from sklearn.metrics import mean_squared_error, mean_absolute_error"
   ]
  },
  {
   "cell_type": "code",
   "execution_count": 108,
   "metadata": {},
   "outputs": [
    {
     "name": "stdout",
     "output_type": "stream",
     "text": [
      "3.3544660783417393\n"
     ]
    }
   ],
   "source": [
    "#Calculating RMSE(root mean square error)\n",
    "pred= model.predict(test_X)\n",
    "print(np.sqrt(mean_squared_error(test_y,pred)))"
   ]
  },
  {
   "cell_type": "markdown",
   "metadata": {},
   "source": [
    "The lower  RMSE is,the better results are. We ve got pretty good results."
   ]
  }
 ],
 "metadata": {
  "kernelspec": {
   "display_name": "Python 3",
   "language": "python",
   "name": "python3"
  },
  "language_info": {
   "codemirror_mode": {
    "name": "ipython",
    "version": 3
   },
   "file_extension": ".py",
   "mimetype": "text/x-python",
   "name": "python",
   "nbconvert_exporter": "python",
   "pygments_lexer": "ipython3",
   "version": "3.8.5"
  }
 },
 "nbformat": 4,
 "nbformat_minor": 4
}

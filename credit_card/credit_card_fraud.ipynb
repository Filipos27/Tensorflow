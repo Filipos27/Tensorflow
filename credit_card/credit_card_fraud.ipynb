{
 "cells": [
  {
   "cell_type": "markdown",
   "metadata": {},
   "source": [
    "# Credit card fraud detection"
   ]
  },
  {
   "cell_type": "markdown",
   "metadata": {},
   "source": [
    "In this project we are going to use CNN model to detect credit card fraud."
   ]
  },
  {
   "cell_type": "code",
   "execution_count": 1,
   "metadata": {},
   "outputs": [],
   "source": [
    "#importing libraries\n",
    "import pandas as pd\n",
    "import numpy as np\n",
    "import matplotlib.pyplot as plt\n",
    "%matplotlib inline\n",
    "import seaborn as sns"
   ]
  },
  {
   "cell_type": "code",
   "execution_count": 2,
   "metadata": {},
   "outputs": [],
   "source": [
    "#importing libraries\n",
    "import tensorflow as tf\n",
    "from tensorflow.keras import Sequential\n",
    "from tensorflow.keras.layers import Dense, Flatten, Dropout, BatchNormalization\n",
    "from tensorflow.keras.layers import Convolution1D, MaxPool1D\n",
    "from tensorflow.keras.optimizers import Adam"
   ]
  },
  {
   "cell_type": "code",
   "execution_count": 3,
   "metadata": {},
   "outputs": [
    {
     "data": {
      "text/html": [
       "<div>\n",
       "<style scoped>\n",
       "    .dataframe tbody tr th:only-of-type {\n",
       "        vertical-align: middle;\n",
       "    }\n",
       "\n",
       "    .dataframe tbody tr th {\n",
       "        vertical-align: top;\n",
       "    }\n",
       "\n",
       "    .dataframe thead th {\n",
       "        text-align: right;\n",
       "    }\n",
       "</style>\n",
       "<table border=\"1\" class=\"dataframe\">\n",
       "  <thead>\n",
       "    <tr style=\"text-align: right;\">\n",
       "      <th></th>\n",
       "      <th>Time</th>\n",
       "      <th>V1</th>\n",
       "      <th>V2</th>\n",
       "      <th>V3</th>\n",
       "      <th>V4</th>\n",
       "      <th>V5</th>\n",
       "      <th>V6</th>\n",
       "      <th>V7</th>\n",
       "      <th>V8</th>\n",
       "      <th>V9</th>\n",
       "      <th>...</th>\n",
       "      <th>V21</th>\n",
       "      <th>V22</th>\n",
       "      <th>V23</th>\n",
       "      <th>V24</th>\n",
       "      <th>V25</th>\n",
       "      <th>V26</th>\n",
       "      <th>V27</th>\n",
       "      <th>V28</th>\n",
       "      <th>Amount</th>\n",
       "      <th>Class</th>\n",
       "    </tr>\n",
       "  </thead>\n",
       "  <tbody>\n",
       "    <tr>\n",
       "      <th>0</th>\n",
       "      <td>0.0</td>\n",
       "      <td>-1.359807</td>\n",
       "      <td>-0.072781</td>\n",
       "      <td>2.536347</td>\n",
       "      <td>1.378155</td>\n",
       "      <td>-0.338321</td>\n",
       "      <td>0.462388</td>\n",
       "      <td>0.239599</td>\n",
       "      <td>0.098698</td>\n",
       "      <td>0.363787</td>\n",
       "      <td>...</td>\n",
       "      <td>-0.018307</td>\n",
       "      <td>0.277838</td>\n",
       "      <td>-0.110474</td>\n",
       "      <td>0.066928</td>\n",
       "      <td>0.128539</td>\n",
       "      <td>-0.189115</td>\n",
       "      <td>0.133558</td>\n",
       "      <td>-0.021053</td>\n",
       "      <td>149.62</td>\n",
       "      <td>0</td>\n",
       "    </tr>\n",
       "    <tr>\n",
       "      <th>1</th>\n",
       "      <td>0.0</td>\n",
       "      <td>1.191857</td>\n",
       "      <td>0.266151</td>\n",
       "      <td>0.166480</td>\n",
       "      <td>0.448154</td>\n",
       "      <td>0.060018</td>\n",
       "      <td>-0.082361</td>\n",
       "      <td>-0.078803</td>\n",
       "      <td>0.085102</td>\n",
       "      <td>-0.255425</td>\n",
       "      <td>...</td>\n",
       "      <td>-0.225775</td>\n",
       "      <td>-0.638672</td>\n",
       "      <td>0.101288</td>\n",
       "      <td>-0.339846</td>\n",
       "      <td>0.167170</td>\n",
       "      <td>0.125895</td>\n",
       "      <td>-0.008983</td>\n",
       "      <td>0.014724</td>\n",
       "      <td>2.69</td>\n",
       "      <td>0</td>\n",
       "    </tr>\n",
       "    <tr>\n",
       "      <th>2</th>\n",
       "      <td>1.0</td>\n",
       "      <td>-1.358354</td>\n",
       "      <td>-1.340163</td>\n",
       "      <td>1.773209</td>\n",
       "      <td>0.379780</td>\n",
       "      <td>-0.503198</td>\n",
       "      <td>1.800499</td>\n",
       "      <td>0.791461</td>\n",
       "      <td>0.247676</td>\n",
       "      <td>-1.514654</td>\n",
       "      <td>...</td>\n",
       "      <td>0.247998</td>\n",
       "      <td>0.771679</td>\n",
       "      <td>0.909412</td>\n",
       "      <td>-0.689281</td>\n",
       "      <td>-0.327642</td>\n",
       "      <td>-0.139097</td>\n",
       "      <td>-0.055353</td>\n",
       "      <td>-0.059752</td>\n",
       "      <td>378.66</td>\n",
       "      <td>0</td>\n",
       "    </tr>\n",
       "    <tr>\n",
       "      <th>3</th>\n",
       "      <td>1.0</td>\n",
       "      <td>-0.966272</td>\n",
       "      <td>-0.185226</td>\n",
       "      <td>1.792993</td>\n",
       "      <td>-0.863291</td>\n",
       "      <td>-0.010309</td>\n",
       "      <td>1.247203</td>\n",
       "      <td>0.237609</td>\n",
       "      <td>0.377436</td>\n",
       "      <td>-1.387024</td>\n",
       "      <td>...</td>\n",
       "      <td>-0.108300</td>\n",
       "      <td>0.005274</td>\n",
       "      <td>-0.190321</td>\n",
       "      <td>-1.175575</td>\n",
       "      <td>0.647376</td>\n",
       "      <td>-0.221929</td>\n",
       "      <td>0.062723</td>\n",
       "      <td>0.061458</td>\n",
       "      <td>123.50</td>\n",
       "      <td>0</td>\n",
       "    </tr>\n",
       "    <tr>\n",
       "      <th>4</th>\n",
       "      <td>2.0</td>\n",
       "      <td>-1.158233</td>\n",
       "      <td>0.877737</td>\n",
       "      <td>1.548718</td>\n",
       "      <td>0.403034</td>\n",
       "      <td>-0.407193</td>\n",
       "      <td>0.095921</td>\n",
       "      <td>0.592941</td>\n",
       "      <td>-0.270533</td>\n",
       "      <td>0.817739</td>\n",
       "      <td>...</td>\n",
       "      <td>-0.009431</td>\n",
       "      <td>0.798278</td>\n",
       "      <td>-0.137458</td>\n",
       "      <td>0.141267</td>\n",
       "      <td>-0.206010</td>\n",
       "      <td>0.502292</td>\n",
       "      <td>0.219422</td>\n",
       "      <td>0.215153</td>\n",
       "      <td>69.99</td>\n",
       "      <td>0</td>\n",
       "    </tr>\n",
       "  </tbody>\n",
       "</table>\n",
       "<p>5 rows × 31 columns</p>\n",
       "</div>"
      ],
      "text/plain": [
       "   Time        V1        V2        V3        V4        V5        V6        V7  \\\n",
       "0   0.0 -1.359807 -0.072781  2.536347  1.378155 -0.338321  0.462388  0.239599   \n",
       "1   0.0  1.191857  0.266151  0.166480  0.448154  0.060018 -0.082361 -0.078803   \n",
       "2   1.0 -1.358354 -1.340163  1.773209  0.379780 -0.503198  1.800499  0.791461   \n",
       "3   1.0 -0.966272 -0.185226  1.792993 -0.863291 -0.010309  1.247203  0.237609   \n",
       "4   2.0 -1.158233  0.877737  1.548718  0.403034 -0.407193  0.095921  0.592941   \n",
       "\n",
       "         V8        V9  ...       V21       V22       V23       V24       V25  \\\n",
       "0  0.098698  0.363787  ... -0.018307  0.277838 -0.110474  0.066928  0.128539   \n",
       "1  0.085102 -0.255425  ... -0.225775 -0.638672  0.101288 -0.339846  0.167170   \n",
       "2  0.247676 -1.514654  ...  0.247998  0.771679  0.909412 -0.689281 -0.327642   \n",
       "3  0.377436 -1.387024  ... -0.108300  0.005274 -0.190321 -1.175575  0.647376   \n",
       "4 -0.270533  0.817739  ... -0.009431  0.798278 -0.137458  0.141267 -0.206010   \n",
       "\n",
       "        V26       V27       V28  Amount  Class  \n",
       "0 -0.189115  0.133558 -0.021053  149.62      0  \n",
       "1  0.125895 -0.008983  0.014724    2.69      0  \n",
       "2 -0.139097 -0.055353 -0.059752  378.66      0  \n",
       "3 -0.221929  0.062723  0.061458  123.50      0  \n",
       "4  0.502292  0.219422  0.215153   69.99      0  \n",
       "\n",
       "[5 rows x 31 columns]"
      ]
     },
     "execution_count": 3,
     "metadata": {},
     "output_type": "execute_result"
    }
   ],
   "source": [
    "#importing csv file\n",
    "df=pd.read_csv(\"creditcard.csv\")\n",
    "df.head()"
   ]
  },
  {
   "cell_type": "markdown",
   "metadata": {},
   "source": [
    "### Explore data"
   ]
  },
  {
   "cell_type": "code",
   "execution_count": 4,
   "metadata": {},
   "outputs": [
    {
     "data": {
      "text/plain": [
       "Time      0\n",
       "V1        0\n",
       "V2        0\n",
       "V3        0\n",
       "V4        0\n",
       "V5        0\n",
       "V6        0\n",
       "V7        0\n",
       "V8        0\n",
       "V9        0\n",
       "V10       0\n",
       "V11       0\n",
       "V12       0\n",
       "V13       0\n",
       "V14       0\n",
       "V15       0\n",
       "V16       0\n",
       "V17       0\n",
       "V18       0\n",
       "V19       0\n",
       "V20       0\n",
       "V21       0\n",
       "V22       0\n",
       "V23       0\n",
       "V24       0\n",
       "V25       0\n",
       "V26       0\n",
       "V27       0\n",
       "V28       0\n",
       "Amount    0\n",
       "Class     0\n",
       "dtype: int64"
      ]
     },
     "execution_count": 4,
     "metadata": {},
     "output_type": "execute_result"
    }
   ],
   "source": [
    "#counting null values\n",
    "df.isnull().sum()"
   ]
  },
  {
   "cell_type": "code",
   "execution_count": 5,
   "metadata": {},
   "outputs": [
    {
     "name": "stdout",
     "output_type": "stream",
     "text": [
      "<class 'pandas.core.frame.DataFrame'>\n",
      "RangeIndex: 284807 entries, 0 to 284806\n",
      "Data columns (total 31 columns):\n",
      " #   Column  Non-Null Count   Dtype  \n",
      "---  ------  --------------   -----  \n",
      " 0   Time    284807 non-null  float64\n",
      " 1   V1      284807 non-null  float64\n",
      " 2   V2      284807 non-null  float64\n",
      " 3   V3      284807 non-null  float64\n",
      " 4   V4      284807 non-null  float64\n",
      " 5   V5      284807 non-null  float64\n",
      " 6   V6      284807 non-null  float64\n",
      " 7   V7      284807 non-null  float64\n",
      " 8   V8      284807 non-null  float64\n",
      " 9   V9      284807 non-null  float64\n",
      " 10  V10     284807 non-null  float64\n",
      " 11  V11     284807 non-null  float64\n",
      " 12  V12     284807 non-null  float64\n",
      " 13  V13     284807 non-null  float64\n",
      " 14  V14     284807 non-null  float64\n",
      " 15  V15     284807 non-null  float64\n",
      " 16  V16     284807 non-null  float64\n",
      " 17  V17     284807 non-null  float64\n",
      " 18  V18     284807 non-null  float64\n",
      " 19  V19     284807 non-null  float64\n",
      " 20  V20     284807 non-null  float64\n",
      " 21  V21     284807 non-null  float64\n",
      " 22  V22     284807 non-null  float64\n",
      " 23  V23     284807 non-null  float64\n",
      " 24  V24     284807 non-null  float64\n",
      " 25  V25     284807 non-null  float64\n",
      " 26  V26     284807 non-null  float64\n",
      " 27  V27     284807 non-null  float64\n",
      " 28  V28     284807 non-null  float64\n",
      " 29  Amount  284807 non-null  float64\n",
      " 30  Class   284807 non-null  int64  \n",
      "dtypes: float64(30), int64(1)\n",
      "memory usage: 67.4 MB\n"
     ]
    }
   ],
   "source": [
    "df.info()"
   ]
  },
  {
   "cell_type": "code",
   "execution_count": 6,
   "metadata": {
    "scrolled": true
   },
   "outputs": [
    {
     "data": {
      "text/plain": [
       "(284807, 31)"
      ]
     },
     "execution_count": 6,
     "metadata": {},
     "output_type": "execute_result"
    }
   ],
   "source": [
    "df.shape"
   ]
  },
  {
   "cell_type": "code",
   "execution_count": 7,
   "metadata": {},
   "outputs": [
    {
     "name": "stdout",
     "output_type": "stream",
     "text": [
      "(283726, 31)\n"
     ]
    }
   ],
   "source": [
    "#droping duplicates\n",
    "df.drop_duplicates(keep='first', inplace=True)\n",
    "print(df.shape)"
   ]
  },
  {
   "cell_type": "code",
   "execution_count": 8,
   "metadata": {},
   "outputs": [
    {
     "data": {
      "text/plain": [
       "<AxesSubplot:xlabel='Class', ylabel='count'>"
      ]
     },
     "execution_count": 8,
     "metadata": {},
     "output_type": "execute_result"
    },
    {
     "data": {
      "image/png": "[encoded data removed]",
      "text/plain": [
       "<Figure size 432x288 with 1 Axes>"
      ]
     },
     "metadata": {
      "needs_background": "light"
     },
     "output_type": "display_data"
    }
   ],
   "source": [
    "sns.countplot(x=\"Class\",data=df)"
   ]
  },
  {
   "cell_type": "code",
   "execution_count": 9,
   "metadata": {
    "scrolled": true
   },
   "outputs": [
    {
     "data": {
      "text/plain": [
       "0    283253\n",
       "1       473\n",
       "Name: Class, dtype: int64"
      ]
     },
     "execution_count": 9,
     "metadata": {},
     "output_type": "execute_result"
    }
   ],
   "source": [
    "df[\"Class\"].value_counts()"
   ]
  },
  {
   "cell_type": "markdown",
   "metadata": {},
   "source": [
    "We can see that our dataset is unbalanced. We have a lot more not fraud then fraud credit card. Later we will use SMOTE techique to balance our dataset."
   ]
  },
  {
   "cell_type": "markdown",
   "metadata": {},
   "source": [
    "## Preparing dataset"
   ]
  },
  {
   "cell_type": "code",
   "execution_count": 10,
   "metadata": {},
   "outputs": [],
   "source": [
    "from sklearn.model_selection import train_test_split"
   ]
  },
  {
   "cell_type": "code",
   "execution_count": 11,
   "metadata": {},
   "outputs": [],
   "source": [
    "# Defining features and  target column\n",
    "X = df.drop(columns=\"Class\", axis =1)\n",
    "y = df[\"Class\"]"
   ]
  },
  {
   "cell_type": "markdown",
   "metadata": {},
   "source": [
    "### Balance dataset"
   ]
  },
  {
   "cell_type": "code",
   "execution_count": 12,
   "metadata": {},
   "outputs": [],
   "source": [
    "#Importing SMOTE\n",
    "from imblearn.over_sampling import SMOTE\n",
    "\n",
    "smote = SMOTE(sampling_strategy='minority')      \n",
    "X_s, y_s = smote.fit_resample(X, y)"
   ]
  },
  {
   "cell_type": "code",
   "execution_count": 13,
   "metadata": {},
   "outputs": [],
   "source": [
    "#Splitting our data on train and test\n",
    "train_X,test_X,train_y,test_y=train_test_split(X_s,y_s,train_size=0.8,random_state=0)"
   ]
  },
  {
   "cell_type": "code",
   "execution_count": 14,
   "metadata": {
    "scrolled": true
   },
   "outputs": [
    {
     "data": {
      "text/plain": [
       "0    226792\n",
       "1    226412\n",
       "Name: Class, dtype: int64"
      ]
     },
     "execution_count": 14,
     "metadata": {},
     "output_type": "execute_result"
    }
   ],
   "source": [
    "train_y.value_counts()"
   ]
  },
  {
   "cell_type": "code",
   "execution_count": 15,
   "metadata": {},
   "outputs": [
    {
     "data": {
      "text/plain": [
       "((453204, 30), (113302, 30))"
      ]
     },
     "execution_count": 15,
     "metadata": {},
     "output_type": "execute_result"
    }
   ],
   "source": [
    "train_X.shape,test_X.shape"
   ]
  },
  {
   "cell_type": "markdown",
   "metadata": {},
   "source": [
    "### Scaling dataset"
   ]
  },
  {
   "cell_type": "code",
   "execution_count": 16,
   "metadata": {},
   "outputs": [],
   "source": [
    "# min-max scaling\n",
    "from sklearn.preprocessing import MinMaxScaler, RobustScaler\n",
    "\n",
    "scaler=MinMaxScaler()"
   ]
  },
  {
   "cell_type": "code",
   "execution_count": 17,
   "metadata": {},
   "outputs": [],
   "source": [
    "train_X=scaler.fit_transform(train_X)\n",
    "test_X=scaler.transform(test_X)"
   ]
  },
  {
   "cell_type": "code",
   "execution_count": 18,
   "metadata": {},
   "outputs": [],
   "source": [
    "train_y=train_y.to_numpy()\n",
    "test_y=test_y.to_numpy()"
   ]
  },
  {
   "cell_type": "markdown",
   "metadata": {},
   "source": [
    "### Reshaping features"
   ]
  },
  {
   "cell_type": "markdown",
   "metadata": {},
   "source": [
    "Because CNN model uses 3D array we need to resape out training features."
   ]
  },
  {
   "cell_type": "code",
   "execution_count": 19,
   "metadata": {},
   "outputs": [],
   "source": [
    "train_X=train_X.reshape(train_X.shape[0],train_X.shape[1],1)\n",
    "test_X=test_X.reshape(test_X.shape[0],test_X.shape[1],1)"
   ]
  },
  {
   "cell_type": "code",
   "execution_count": 20,
   "metadata": {},
   "outputs": [
    {
     "data": {
      "text/plain": [
       "((453204, 30, 1), (113302, 30, 1))"
      ]
     },
     "execution_count": 20,
     "metadata": {},
     "output_type": "execute_result"
    }
   ],
   "source": [
    "train_X.shape,test_X.shape"
   ]
  },
  {
   "cell_type": "code",
   "execution_count": 21,
   "metadata": {},
   "outputs": [],
   "source": [
    "model = Sequential()\n",
    "model.add(Convolution1D(32,2,activation=\"relu\",input_shape=train_X[0].shape))\n",
    "model.add(BatchNormalization())\n",
    "model.add(Dropout(0.5))\n",
    "\n",
    "model.add(Convolution1D(64,2,activation=\"relu\"))\n",
    "model.add(BatchNormalization())\n",
    "model.add(Dropout(0.7))\n",
    "\n",
    "model.add(Flatten())\n",
    "model.add(Dense(64,activation=\"relu\"))\n",
    "model.add(Dropout(0.7))\n",
    "\n",
    "model.add(Dense(1,activation=\"sigmoid\"))"
   ]
  },
  {
   "cell_type": "raw",
   "metadata": {},
   "source": [
    "model.summary()"
   ]
  },
  {
   "cell_type": "code",
   "execution_count": 22,
   "metadata": {},
   "outputs": [],
   "source": [
    "model.compile(optimizer=Adam(lr=0.0001),loss=\"binary_crossentropy\",metrics=[\"accuracy\"])"
   ]
  },
  {
   "cell_type": "code",
   "execution_count": 23,
   "metadata": {
    "scrolled": true
   },
   "outputs": [
    {
     "name": "stdout",
     "output_type": "stream",
     "text": [
      "Epoch 1/20\n",
      "14163/14163 [==============================] - 119s 8ms/step - loss: 0.2873 - accuracy: 0.8904 - val_loss: 0.0873 - val_accuracy: 0.9692\n",
      "Epoch 2/20\n",
      "14163/14163 [==============================] - 117s 8ms/step - loss: 0.1233 - accuracy: 0.9595 - val_loss: 0.0860 - val_accuracy: 0.9684\n",
      "Epoch 3/20\n",
      "14163/14163 [==============================] - 119s 8ms/step - loss: 0.1131 - accuracy: 0.9624 - val_loss: 0.0806 - val_accuracy: 0.9721\n",
      "Epoch 4/20\n",
      "14163/14163 [==============================] - 119s 8ms/step - loss: 0.1079 - accuracy: 0.9638 - val_loss: 0.0762 - val_accuracy: 0.9733\n",
      "Epoch 5/20\n",
      "14163/14163 [==============================] - 120s 9ms/step - loss: 0.1030 - accuracy: 0.9653 - val_loss: 0.0779 - val_accuracy: 0.9714\n",
      "Epoch 6/20\n",
      "14163/14163 [==============================] - 121s 9ms/step - loss: 0.1012 - accuracy: 0.9657 - val_loss: 0.0720 - val_accuracy: 0.9747\n",
      "Epoch 7/20\n",
      "14163/14163 [==============================] - 123s 9ms/step - loss: 0.1000 - accuracy: 0.9666 - val_loss: 0.0752 - val_accuracy: 0.9718\n",
      "Epoch 8/20\n",
      "14163/14163 [==============================] - 131s 9ms/step - loss: 0.0973 - accuracy: 0.9669 - val_loss: 0.0697 - val_accuracy: 0.9755\n",
      "Epoch 9/20\n",
      "14163/14163 [==============================] - 131s 9ms/step - loss: 0.0960 - accuracy: 0.9674 - val_loss: 0.0673 - val_accuracy: 0.9768\n",
      "Epoch 10/20\n",
      "14163/14163 [==============================] - 132s 9ms/step - loss: 0.0944 - accuracy: 0.9674 - val_loss: 0.0682 - val_accuracy: 0.9750\n",
      "Epoch 11/20\n",
      "14163/14163 [==============================] - 132s 9ms/step - loss: 0.0928 - accuracy: 0.9684 - val_loss: 0.0671 - val_accuracy: 0.9756\n",
      "Epoch 12/20\n",
      "14163/14163 [==============================] - 132s 9ms/step - loss: 0.0935 - accuracy: 0.9681 - val_loss: 0.0647 - val_accuracy: 0.9780\n",
      "Epoch 13/20\n",
      "14163/14163 [==============================] - 132s 9ms/step - loss: 0.0917 - accuracy: 0.9683 - val_loss: 0.0644 - val_accuracy: 0.9764\n",
      "Epoch 14/20\n",
      "14163/14163 [==============================] - 133s 9ms/step - loss: 0.0919 - accuracy: 0.9689 - val_loss: 0.0615 - val_accuracy: 0.9776\n",
      "Epoch 15/20\n",
      "14163/14163 [==============================] - 142s 10ms/step - loss: 0.0894 - accuracy: 0.9690 - val_loss: 0.0644 - val_accuracy: 0.9771\n",
      "Epoch 16/20\n",
      "14163/14163 [==============================] - 130s 9ms/step - loss: 0.0902 - accuracy: 0.9688 - val_loss: 0.0604 - val_accuracy: 0.9794\n",
      "Epoch 17/20\n",
      "14163/14163 [==============================] - 132s 9ms/step - loss: 0.0884 - accuracy: 0.9696 - val_loss: 0.0610 - val_accuracy: 0.9782\n",
      "Epoch 18/20\n",
      "14163/14163 [==============================] - 132s 9ms/step - loss: 0.0877 - accuracy: 0.9699 - val_loss: 0.0595 - val_accuracy: 0.9783\n",
      "Epoch 19/20\n",
      "14163/14163 [==============================] - 138s 10ms/step - loss: 0.0874 - accuracy: 0.9698 - val_loss: 0.0608 - val_accuracy: 0.9785\n",
      "Epoch 20/20\n",
      "14163/14163 [==============================] - 130s 9ms/step - loss: 0.0891 - accuracy: 0.9697 - val_loss: 0.0600 - val_accuracy: 0.9777\n"
     ]
    }
   ],
   "source": [
    "history=model.fit(train_X,train_y,epochs=20,validation_data=(test_X,test_y),verbose=1)"
   ]
  },
  {
   "cell_type": "code",
   "execution_count": 24,
   "metadata": {},
   "outputs": [],
   "source": [
    "def learning_curve (history,epoch):\n",
    "    epoch_range=range(1,epoch+1)\n",
    "    plt.plot(epoch_range,history.history[\"accuracy\"])\n",
    "    plt.plot(epoch_range,history.history[\"val_accuracy\"])\n",
    "    plt.title(\"Model accuracy\")\n",
    "    plt.xlabel(\"Epoch\")\n",
    "    plt.ylabel(\"Accuracy\")\n",
    "    plt.legend([\"Train\",\"Val\"])\n",
    "    plt.show()\n",
    "    \n",
    "    plt.plot(epoch_range,history.history[\"loss\"])\n",
    "    plt.plot(epoch_range,history.history[\"val_loss\"])\n",
    "    plt.title(\"Model loss\")\n",
    "    plt.xlabel(\"Epoch\")\n",
    "    plt.ylabel(\"Loss\")\n",
    "    plt.legend([\"Train\",\"Val\"])\n",
    "    plt.show()\n",
    "    "
   ]
  },
  {
   "cell_type": "code",
   "execution_count": 25,
   "metadata": {
    "scrolled": true
   },
   "outputs": [
    {
     "data": {
      "image/png": "[encoded data removed]",
      "text/plain": [
       "<Figure size 432x288 with 1 Axes>"
      ]
     },
     "metadata": {
      "needs_background": "light"
     },
     "output_type": "display_data"
    },
    {
     "data": {
      "image/png": "[encoded data removed]",
      "text/plain": [
       "<Figure size 432x288 with 1 Axes>"
      ]
     },
     "metadata": {
      "needs_background": "light"
     },
     "output_type": "display_data"
    }
   ],
   "source": [
    "learning_curve(history,20)"
   ]
  },
  {
   "cell_type": "markdown",
   "metadata": {},
   "source": [
    "We can see our model is doing very well. We have 96.97% accuracy on training set and 97.77% on test set. This could mean a little overfitting. So we could just raise number of epoch to solve this."
   ]
  },
  {
   "cell_type": "markdown",
   "metadata": {},
   "source": [
    "### Adding MaxPooling"
   ]
  },
  {
   "cell_type": "code",
   "execution_count": 26,
   "metadata": {},
   "outputs": [],
   "source": [
    "model = Sequential()\n",
    "model.add(Convolution1D(32,2,activation=\"relu\",input_shape=train_X[0].shape))\n",
    "model.add(BatchNormalization())\n",
    "model.add(MaxPool1D(2))\n",
    "model.add(Dropout(0.5))\n",
    "\n",
    "model.add(Convolution1D(64,2,activation=\"relu\"))\n",
    "model.add(BatchNormalization())\n",
    "model.add(MaxPool1D(2))\n",
    "model.add(Dropout(0.7))\n",
    "\n",
    "model.add(Flatten())\n",
    "model.add(Dense(64,activation=\"relu\"))\n",
    "model.add(Dropout(0.7))\n",
    "\n",
    "model.add(Dense(1,activation=\"sigmoid\"))"
   ]
  },
  {
   "cell_type": "code",
   "execution_count": 27,
   "metadata": {},
   "outputs": [],
   "source": [
    "model.compile(optimizer=Adam(lr=0.0001),loss=\"binary_crossentropy\",metrics=[\"accuracy\"])"
   ]
  },
  {
   "cell_type": "code",
   "execution_count": 28,
   "metadata": {},
   "outputs": [
    {
     "name": "stdout",
     "output_type": "stream",
     "text": [
      "Epoch 1/50\n",
      "14163/14163 [==============================] - 89s 6ms/step - loss: 0.5377 - accuracy: 0.8294 - val_loss: 0.0913 - val_accuracy: 0.9692\n",
      "Epoch 2/50\n",
      "14163/14163 [==============================] - 86s 6ms/step - loss: 0.1290 - accuracy: 0.9585 - val_loss: 0.0821 - val_accuracy: 0.9713\n",
      "Epoch 3/50\n",
      "14163/14163 [==============================] - 87s 6ms/step - loss: 0.1127 - accuracy: 0.9636 - val_loss: 0.0782 - val_accuracy: 0.9723\n",
      "Epoch 4/50\n",
      "14163/14163 [==============================] - 87s 6ms/step - loss: 0.1064 - accuracy: 0.9650 - val_loss: 0.0770 - val_accuracy: 0.9722\n",
      "Epoch 5/50\n",
      "14163/14163 [==============================] - 87s 6ms/step - loss: 0.1031 - accuracy: 0.9661 - val_loss: 0.0793 - val_accuracy: 0.9711\n",
      "Epoch 6/50\n",
      "14163/14163 [==============================] - 87s 6ms/step - loss: 0.1008 - accuracy: 0.9669 - val_loss: 0.0731 - val_accuracy: 0.9737\n",
      "Epoch 7/50\n",
      "14163/14163 [==============================] - 92s 6ms/step - loss: 0.1002 - accuracy: 0.9666 - val_loss: 0.0717 - val_accuracy: 0.9745\n",
      "Epoch 8/50\n",
      "14163/14163 [==============================] - 91s 6ms/step - loss: 0.0982 - accuracy: 0.9671 - val_loss: 0.0726 - val_accuracy: 0.9737\n",
      "Epoch 9/50\n",
      "14163/14163 [==============================] - 89s 6ms/step - loss: 0.0966 - accuracy: 0.9681 - val_loss: 0.0709 - val_accuracy: 0.9750\n",
      "Epoch 10/50\n",
      "14163/14163 [==============================] - 89s 6ms/step - loss: 0.0961 - accuracy: 0.9678 - val_loss: 0.0702 - val_accuracy: 0.9747\n",
      "Epoch 11/50\n",
      "14163/14163 [==============================] - 89s 6ms/step - loss: 0.0951 - accuracy: 0.9685 - val_loss: 0.0684 - val_accuracy: 0.9760\n",
      "Epoch 12/50\n",
      "14163/14163 [==============================] - 89s 6ms/step - loss: 0.0939 - accuracy: 0.9684 - val_loss: 0.0715 - val_accuracy: 0.9742\n",
      "Epoch 13/50\n",
      "14163/14163 [==============================] - 89s 6ms/step - loss: 0.0919 - accuracy: 0.9691 - val_loss: 0.0680 - val_accuracy: 0.9765\n",
      "Epoch 14/50\n",
      "14163/14163 [==============================] - 89s 6ms/step - loss: 0.0929 - accuracy: 0.9691 - val_loss: 0.0688 - val_accuracy: 0.9752\n",
      "Epoch 15/50\n",
      "14163/14163 [==============================] - 89s 6ms/step - loss: 0.0913 - accuracy: 0.9693 - val_loss: 0.0673 - val_accuracy: 0.9763\n",
      "Epoch 16/50\n",
      "14163/14163 [==============================] - 89s 6ms/step - loss: 0.0922 - accuracy: 0.9691 - val_loss: 0.0682 - val_accuracy: 0.9750\n",
      "Epoch 17/50\n",
      "14163/14163 [==============================] - 89s 6ms/step - loss: 0.0914 - accuracy: 0.9690 - val_loss: 0.0669 - val_accuracy: 0.9760\n",
      "Epoch 18/50\n",
      "14163/14163 [==============================] - 89s 6ms/step - loss: 0.0899 - accuracy: 0.9695 - val_loss: 0.0669 - val_accuracy: 0.9763\n",
      "Epoch 19/50\n",
      "14163/14163 [==============================] - 89s 6ms/step - loss: 0.0911 - accuracy: 0.9695 - val_loss: 0.0681 - val_accuracy: 0.9750\n",
      "Epoch 20/50\n",
      "14163/14163 [==============================] - 89s 6ms/step - loss: 0.0913 - accuracy: 0.9691 - val_loss: 0.0674 - val_accuracy: 0.9754\n",
      "Epoch 21/50\n",
      "14163/14163 [==============================] - 89s 6ms/step - loss: 0.0902 - accuracy: 0.9696 - val_loss: 0.0666 - val_accuracy: 0.9765\n",
      "Epoch 22/50\n",
      "14163/14163 [==============================] - 89s 6ms/step - loss: 0.0900 - accuracy: 0.9691 - val_loss: 0.0655 - val_accuracy: 0.9763\n",
      "Epoch 23/50\n",
      "14163/14163 [==============================] - 89s 6ms/step - loss: 0.0900 - accuracy: 0.9695 - val_loss: 0.0672 - val_accuracy: 0.9747\n",
      "Epoch 24/50\n",
      "14163/14163 [==============================] - 88s 6ms/step - loss: 0.0907 - accuracy: 0.9693 - val_loss: 0.0687 - val_accuracy: 0.9744\n",
      "Epoch 25/50\n",
      "14163/14163 [==============================] - 88s 6ms/step - loss: 0.0882 - accuracy: 0.9700 - val_loss: 0.0649 - val_accuracy: 0.9761\n",
      "Epoch 26/50\n",
      "14163/14163 [==============================] - 87s 6ms/step - loss: 0.0896 - accuracy: 0.9700 - val_loss: 0.0639 - val_accuracy: 0.9768\n",
      "Epoch 27/50\n",
      "14163/14163 [==============================] - 87s 6ms/step - loss: 0.0881 - accuracy: 0.9698 - val_loss: 0.0647 - val_accuracy: 0.9762\n",
      "Epoch 28/50\n",
      "14163/14163 [==============================] - 87s 6ms/step - loss: 0.0893 - accuracy: 0.9693 - val_loss: 0.0644 - val_accuracy: 0.9764\n",
      "Epoch 29/50\n",
      "14163/14163 [==============================] - 87s 6ms/step - loss: 0.0887 - accuracy: 0.9694 - val_loss: 0.0661 - val_accuracy: 0.9754\n",
      "Epoch 30/50\n",
      "14163/14163 [==============================] - 88s 6ms/step - loss: 0.0890 - accuracy: 0.9696 - val_loss: 0.0649 - val_accuracy: 0.9759\n",
      "Epoch 31/50\n",
      "14163/14163 [==============================] - 88s 6ms/step - loss: 0.0873 - accuracy: 0.9703 - val_loss: 0.0648 - val_accuracy: 0.9760\n",
      "Epoch 32/50\n",
      "14163/14163 [==============================] - 87s 6ms/step - loss: 0.0880 - accuracy: 0.9699 - val_loss: 0.0656 - val_accuracy: 0.9759\n",
      "Epoch 33/50\n",
      "14163/14163 [==============================] - 87s 6ms/step - loss: 0.0890 - accuracy: 0.9694 - val_loss: 0.0621 - val_accuracy: 0.9778\n",
      "Epoch 34/50\n",
      "14163/14163 [==============================] - 87s 6ms/step - loss: 0.0879 - accuracy: 0.9696 - val_loss: 0.0609 - val_accuracy: 0.9782\n",
      "Epoch 35/50\n",
      "14163/14163 [==============================] - 87s 6ms/step - loss: 0.0869 - accuracy: 0.9701 - val_loss: 0.0640 - val_accuracy: 0.9761\n",
      "Epoch 36/50\n",
      "14163/14163 [==============================] - 88s 6ms/step - loss: 0.0880 - accuracy: 0.9698 - val_loss: 0.0633 - val_accuracy: 0.9763\n",
      "Epoch 37/50\n",
      "14163/14163 [==============================] - 86s 6ms/step - loss: 0.0872 - accuracy: 0.9703 - val_loss: 0.0614 - val_accuracy: 0.9783\n",
      "Epoch 38/50\n",
      "14163/14163 [==============================] - 86s 6ms/step - loss: 0.0876 - accuracy: 0.9701 - val_loss: 0.0612 - val_accuracy: 0.9782\n",
      "Epoch 39/50\n",
      "14163/14163 [==============================] - 87s 6ms/step - loss: 0.0882 - accuracy: 0.9704 - val_loss: 0.0623 - val_accuracy: 0.9787\n",
      "Epoch 40/50\n",
      "14163/14163 [==============================] - 90s 6ms/step - loss: 0.0868 - accuracy: 0.9701 - val_loss: 0.0630 - val_accuracy: 0.9773\n",
      "Epoch 41/50\n",
      "14163/14163 [==============================] - 92s 6ms/step - loss: 0.0866 - accuracy: 0.9703 - val_loss: 0.0605 - val_accuracy: 0.9786\n",
      "Epoch 42/50\n",
      "14163/14163 [==============================] - 93s 7ms/step - loss: 0.0863 - accuracy: 0.9705 - val_loss: 0.0628 - val_accuracy: 0.9767\n",
      "Epoch 43/50\n",
      "14163/14163 [==============================] - 94s 7ms/step - loss: 0.0881 - accuracy: 0.9701 - val_loss: 0.0628 - val_accuracy: 0.9764\n",
      "Epoch 44/50\n",
      "14163/14163 [==============================] - 94s 7ms/step - loss: 0.0874 - accuracy: 0.9699 - val_loss: 0.0616 - val_accuracy: 0.9768\n",
      "Epoch 45/50\n",
      "14163/14163 [==============================] - 95s 7ms/step - loss: 0.0868 - accuracy: 0.9705 - val_loss: 0.0628 - val_accuracy: 0.9763\n",
      "Epoch 46/50\n",
      "14163/14163 [==============================] - 96s 7ms/step - loss: 0.0869 - accuracy: 0.9703 - val_loss: 0.0621 - val_accuracy: 0.9772\n",
      "Epoch 47/50\n",
      "14163/14163 [==============================] - 96s 7ms/step - loss: 0.0869 - accuracy: 0.9702 - val_loss: 0.0613 - val_accuracy: 0.9769\n",
      "Epoch 48/50\n",
      "14163/14163 [==============================] - 97s 7ms/step - loss: 0.0862 - accuracy: 0.9699 - val_loss: 0.0611 - val_accuracy: 0.9782\n",
      "Epoch 49/50\n",
      "14163/14163 [==============================] - 97s 7ms/step - loss: 0.0867 - accuracy: 0.9702 - val_loss: 0.0606 - val_accuracy: 0.9771\n",
      "Epoch 50/50\n",
      "14163/14163 [==============================] - 97s 7ms/step - loss: 0.0853 - accuracy: 0.9705 - val_loss: 0.0593 - val_accuracy: 0.9782\n"
     ]
    }
   ],
   "source": [
    "history=model.fit(train_X,train_y,epochs=50,validation_data=(test_X,test_y),verbose=1)"
   ]
  },
  {
   "cell_type": "code",
   "execution_count": 29,
   "metadata": {},
   "outputs": [
    {
     "data": {
      "image/png": "[encoded data removed]",
      "text/plain": [
       "<Figure size 432x288 with 1 Axes>"
      ]
     },
     "metadata": {
      "needs_background": "light"
     },
     "output_type": "display_data"
    },
    {
     "data": {
      "image/png": "[encoded data removed]",
      "text/plain": [
       "<Figure size 432x288 with 1 Axes>"
      ]
     },
     "metadata": {
      "needs_background": "light"
     },
     "output_type": "display_data"
    }
   ],
   "source": [
    "learning_curve(history,50)"
   ]
  },
  {
   "cell_type": "markdown",
   "metadata": {},
   "source": [
    "After adding MaxPooling layer we got a little better result on training and test set. Training set accuracy 97.05% and test set accuracy 97.82%."
   ]
  }
 ],
 "metadata": {
  "kernelspec": {
   "display_name": "Python 3",
   "language": "python",
   "name": "python3"
  },
  "language_info": {
   "codemirror_mode": {
    "name": "ipython",
    "version": 3
   },
   "file_extension": ".py",
   "mimetype": "text/x-python",
   "name": "python",
   "nbconvert_exporter": "python",
   "pygments_lexer": "ipython3",
   "version": "3.8.5"
  }
 },
 "nbformat": 4,
 "nbformat_minor": 4
}

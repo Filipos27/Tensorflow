{
 "cells": [
  {
   "cell_type": "code",
   "execution_count": 1,
   "metadata": {},
   "outputs": [],
   "source": [
    "import csv\n",
    "from bs4 import BeautifulSoup\n",
    "from webdriver_manager.chrome import ChromeDriverManager\n",
    "from selenium import webdriver"
   ]
  },
  {
   "cell_type": "code",
   "execution_count": 2,
   "metadata": {},
   "outputs": [
    {
     "name": "stderr",
     "output_type": "stream",
     "text": [
      "[WDM] - ====== WebDriver manager ======\n",
      "[WDM] - Current google-chrome version is 90.0.4430\n",
      "[WDM] - Get LATEST driver version for 90.0.4430\n"
     ]
    },
    {
     "name": "stdout",
     "output_type": "stream",
     "text": [
      "\n",
      "\n"
     ]
    },
    {
     "name": "stderr",
     "output_type": "stream",
     "text": [
      "[WDM] - Get LATEST driver version for 90.0.4430\n",
      "[WDM] - Trying to download new driver from https://chromedriver.storage.googleapis.com/90.0.4430.24/chromedriver_linux64.zip\n",
      "[WDM] - Driver has been saved in cache [/home/mattdmv/.wdm/drivers/chromedriver/linux64/90.0.4430.24]\n"
     ]
    }
   ],
   "source": [
    "#setting Chrome driver\n",
    "driver = webdriver.Chrome(ChromeDriverManager().install())"
   ]
  },
  {
   "cell_type": "code",
   "execution_count": 3,
   "metadata": {},
   "outputs": [],
   "source": [
    "# gettin url of page we want to scrap\n",
    "url =\"https://suchen.mobile.de/fahrzeuge/search.html?damageUnrepaired=ALSO_DAMAGE_UNREPAIRED&isSearchRequest=true&pageNumber=1&scopeId=C&sfmr=false\"\n",
    "driver.get(url)"
   ]
  },
  {
   "cell_type": "code",
   "execution_count": 4,
   "metadata": {},
   "outputs": [],
   "source": [
    "soup= BeautifulSoup(driver.page_source,\"html.parser\")"
   ]
  },
  {
   "cell_type": "code",
   "execution_count": 5,
   "metadata": {},
   "outputs": [],
   "source": [
    "#finding all apartmets on single page\n",
    "cars=soup.find_all(\"div\",\"cBox-body cBox-body--resultitem dealerAd rbt-reg rbt-no-top\")"
   ]
  },
  {
   "cell_type": "code",
   "execution_count": 6,
   "metadata": {},
   "outputs": [
    {
     "data": {
      "text/plain": [
       "19"
      ]
     },
     "execution_count": 6,
     "metadata": {},
     "output_type": "execute_result"
    }
   ],
   "source": [
    "len(cars)"
   ]
  },
  {
   "cell_type": "code",
   "execution_count": 7,
   "metadata": {},
   "outputs": [],
   "source": [
    "car=cars[0]"
   ]
  },
  {
   "cell_type": "code",
   "execution_count": 8,
   "metadata": {},
   "outputs": [
    {
     "data": {
      "text/plain": [
       "'Mercedes-Benz GLK 25'"
      ]
     },
     "execution_count": 8,
     "metadata": {},
     "output_type": "execute_result"
    }
   ],
   "source": [
    "car.find(\"span\",\"h3 u-text-break-word\").text.strip()[:20]"
   ]
  },
  {
   "cell_type": "code",
   "execution_count": 9,
   "metadata": {},
   "outputs": [
    {
     "data": {
      "text/plain": [
       "'21.980'"
      ]
     },
     "execution_count": 9,
     "metadata": {},
     "output_type": "execute_result"
    }
   ],
   "source": [
    "car.find(\"span\",\"h3 u-block\").text.strip().replace(\"\\xa0€\",\"\")"
   ]
  },
  {
   "cell_type": "code",
   "execution_count": 10,
   "metadata": {},
   "outputs": [
    {
     "data": {
      "text/plain": [
       "'150'"
      ]
     },
     "execution_count": 10,
     "metadata": {},
     "output_type": "execute_result"
    }
   ],
   "source": [
    "car.find(\"div\",\"vehicle-data--ad-with-price-rating-label\").text.strip().split()[4]"
   ]
  },
  {
   "cell_type": "code",
   "execution_count": 11,
   "metadata": {},
   "outputs": [
    {
     "data": {
      "text/plain": [
       "'Diesel,'"
      ]
     },
     "execution_count": 11,
     "metadata": {},
     "output_type": "execute_result"
    }
   ],
   "source": [
    "car.find(\"div\",\"vehicle-data--ad-with-price-rating-label\").text.strip().split()[13]"
   ]
  },
  {
   "cell_type": "code",
   "execution_count": 12,
   "metadata": {},
   "outputs": [
    {
     "data": {
      "text/plain": [
       "'7,0'"
      ]
     },
     "execution_count": 12,
     "metadata": {},
     "output_type": "execute_result"
    }
   ],
   "source": [
    "car.find(\"div\",\"vehicle-data--ad-with-price-rating-label\").text.strip().split()[19]"
   ]
  },
  {
   "cell_type": "code",
   "execution_count": 13,
   "metadata": {},
   "outputs": [
    {
     "data": {
      "text/plain": [
       "'183'"
      ]
     },
     "execution_count": 13,
     "metadata": {},
     "output_type": "execute_result"
    }
   ],
   "source": [
    "car.find(\"div\",\"vehicle-data--ad-with-price-rating-label\").text.strip().split()[-4]"
   ]
  },
  {
   "cell_type": "code",
   "execution_count": 15,
   "metadata": {},
   "outputs": [],
   "source": [
    "price=[]\n",
    "kw=[]\n",
    "fuel=[]\n",
    "consump=[]\n",
    "co2=[]\n",
    "pages=range(1,51)\n",
    "for page in pages:\n",
    "    url =\"https://suchen.mobile.de/fahrzeuge/search.html?damageUnrepaired=ALSO_DAMAGE_UNREPAIRED&isSearchRequest=true&pageNumber={}&scopeId=C&sfmr=false\".format(page)\n",
    "    driver.get(url)\n",
    "    soup= BeautifulSoup(driver.page_source,\"html.parser\")\n",
    "    cars=soup.find_all(\"div\",\"cBox-body cBox-body--resultitem dealerAd rbt-reg rbt-no-top\")\n",
    "\n",
    "    for i in cars:\n",
    "        try:\n",
    "            price.append(i.find(\"span\",\"h3 u-block\").text.strip().replace(\"\\xa0€\",\"\"))\n",
    "        except:\n",
    "            price.append(0)\n",
    "        try:\n",
    "            kw.append(i.find(\"div\",\"vehicle-data--ad-with-price-rating-label\").text.strip().split()[4])\n",
    "        except:\n",
    "            kw.append(0)\n",
    "        try:\n",
    "            fuel.append(i.find(\"div\",\"vehicle-data--ad-with-price-rating-label\").text.strip().split()[13])\n",
    "        except:\n",
    "            fuel.append(0)\n",
    "        try:\n",
    "            consump.append(i.find(\"div\",\"vehicle-data--ad-with-price-rating-label\").text.strip().split()[19])\n",
    "        except:\n",
    "            consump.append(0)\n",
    "        try:\n",
    "            co2.append(i.find(\"div\",\"vehicle-data--ad-with-price-rating-label\").text.strip().split()[-4])\n",
    "        except:\n",
    "            co2.append(0)\n",
    "            \n",
    "            \n",
    "            "
   ]
  },
  {
   "cell_type": "code",
   "execution_count": 17,
   "metadata": {},
   "outputs": [],
   "source": [
    "data=list(zip(price,kw,fuel,consump,co2))"
   ]
  },
  {
   "cell_type": "code",
   "execution_count": 18,
   "metadata": {},
   "outputs": [],
   "source": [
    "import pandas as pd"
   ]
  },
  {
   "cell_type": "code",
   "execution_count": 19,
   "metadata": {},
   "outputs": [],
   "source": [
    "df=pd.DataFrame(data,columns=[\"Price\",\"KW\",\"Fuel\",\"Fuel_consumption\",\"Co2\"])"
   ]
  },
  {
   "cell_type": "code",
   "execution_count": 20,
   "metadata": {},
   "outputs": [
    {
     "data": {
      "text/plain": [
       "(652, 5)"
      ]
     },
     "execution_count": 20,
     "metadata": {},
     "output_type": "execute_result"
    }
   ],
   "source": [
    "df.shape"
   ]
  },
  {
   "cell_type": "code",
   "execution_count": 21,
   "metadata": {
    "scrolled": true
   },
   "outputs": [
    {
     "data": {
      "text/html": [
       "<div>\n",
       "<style scoped>\n",
       "    .dataframe tbody tr th:only-of-type {\n",
       "        vertical-align: middle;\n",
       "    }\n",
       "\n",
       "    .dataframe tbody tr th {\n",
       "        vertical-align: top;\n",
       "    }\n",
       "\n",
       "    .dataframe thead th {\n",
       "        text-align: right;\n",
       "    }\n",
       "</style>\n",
       "<table border=\"1\" class=\"dataframe\">\n",
       "  <thead>\n",
       "    <tr style=\"text-align: right;\">\n",
       "      <th></th>\n",
       "      <th>Price</th>\n",
       "      <th>KW</th>\n",
       "      <th>Fuel</th>\n",
       "      <th>Fuel_consumption</th>\n",
       "      <th>Co2</th>\n",
       "    </tr>\n",
       "  </thead>\n",
       "  <tbody>\n",
       "    <tr>\n",
       "      <th>617</th>\n",
       "      <td>12.790</td>\n",
       "      <td>81</td>\n",
       "      <td>Türen3,8</td>\n",
       "      <td>(komb.)*</td>\n",
       "      <td>99</td>\n",
       "    </tr>\n",
       "    <tr>\n",
       "      <th>377</th>\n",
       "      <td>17.990</td>\n",
       "      <td>135</td>\n",
       "      <td>Türenca.</td>\n",
       "      <td>g</td>\n",
       "      <td>119</td>\n",
       "    </tr>\n",
       "    <tr>\n",
       "      <th>77</th>\n",
       "      <td>19.480</td>\n",
       "      <td>135</td>\n",
       "      <td>4/5</td>\n",
       "      <td>130</td>\n",
       "      <td>130</td>\n",
       "    </tr>\n",
       "    <tr>\n",
       "      <th>193</th>\n",
       "      <td>19.950</td>\n",
       "      <td>162</td>\n",
       "      <td>Türen</td>\n",
       "      <td>0</td>\n",
       "      <td>HU</td>\n",
       "    </tr>\n",
       "    <tr>\n",
       "      <th>511</th>\n",
       "      <td>19.999</td>\n",
       "      <td>195</td>\n",
       "      <td>HU</td>\n",
       "      <td>(komb.),</td>\n",
       "      <td>225</td>\n",
       "    </tr>\n",
       "    <tr>\n",
       "      <th>412</th>\n",
       "      <td>13.900</td>\n",
       "      <td>77</td>\n",
       "      <td>Neu,</td>\n",
       "      <td>g</td>\n",
       "      <td>119</td>\n",
       "    </tr>\n",
       "    <tr>\n",
       "      <th>349</th>\n",
       "      <td>17.850</td>\n",
       "      <td>169</td>\n",
       "      <td>4/5</td>\n",
       "      <td>149</td>\n",
       "      <td>149</td>\n",
       "    </tr>\n",
       "    <tr>\n",
       "      <th>482</th>\n",
       "      <td>26.900</td>\n",
       "      <td>135</td>\n",
       "      <td>4/5</td>\n",
       "      <td>118</td>\n",
       "      <td>118</td>\n",
       "    </tr>\n",
       "    <tr>\n",
       "      <th>92</th>\n",
       "      <td>14.690</td>\n",
       "      <td>110</td>\n",
       "      <td>l/100km</td>\n",
       "      <td>(komb.)</td>\n",
       "      <td>110</td>\n",
       "    </tr>\n",
       "    <tr>\n",
       "      <th>535</th>\n",
       "      <td>19.980</td>\n",
       "      <td>100</td>\n",
       "      <td>HU</td>\n",
       "      <td>0</td>\n",
       "      <td>226</td>\n",
       "    </tr>\n",
       "    <tr>\n",
       "      <th>471</th>\n",
       "      <td>26.990</td>\n",
       "      <td>140</td>\n",
       "      <td>4/5</td>\n",
       "      <td>133</td>\n",
       "      <td>133</td>\n",
       "    </tr>\n",
       "    <tr>\n",
       "      <th>112</th>\n",
       "      <td>23.990</td>\n",
       "      <td>140</td>\n",
       "      <td>Automatik,</td>\n",
       "      <td>(komb.)*,</td>\n",
       "      <td>136</td>\n",
       "    </tr>\n",
       "    <tr>\n",
       "      <th>599</th>\n",
       "      <td>13.790</td>\n",
       "      <td>103</td>\n",
       "      <td>4/5</td>\n",
       "      <td>125</td>\n",
       "      <td>125</td>\n",
       "    </tr>\n",
       "    <tr>\n",
       "      <th>67</th>\n",
       "      <td>19.440</td>\n",
       "      <td>135</td>\n",
       "      <td>4/5</td>\n",
       "      <td>125</td>\n",
       "      <td>125</td>\n",
       "    </tr>\n",
       "    <tr>\n",
       "      <th>26</th>\n",
       "      <td>17.333</td>\n",
       "      <td>147</td>\n",
       "      <td>Unfallschaden,</td>\n",
       "      <td>Türenca.</td>\n",
       "      <td>Türenca.</td>\n",
       "    </tr>\n",
       "    <tr>\n",
       "      <th>185</th>\n",
       "      <td>12.999</td>\n",
       "      <td>85</td>\n",
       "      <td>4/5</td>\n",
       "      <td>119</td>\n",
       "      <td>119</td>\n",
       "    </tr>\n",
       "    <tr>\n",
       "      <th>186</th>\n",
       "      <td>14.990</td>\n",
       "      <td>110</td>\n",
       "      <td>l/100km</td>\n",
       "      <td>(komb.)</td>\n",
       "      <td>112</td>\n",
       "    </tr>\n",
       "    <tr>\n",
       "      <th>510</th>\n",
       "      <td>19.949</td>\n",
       "      <td>225</td>\n",
       "      <td>Türenca.</td>\n",
       "      <td>g</td>\n",
       "      <td>174</td>\n",
       "    </tr>\n",
       "    <tr>\n",
       "      <th>321</th>\n",
       "      <td>22.980</td>\n",
       "      <td>125</td>\n",
       "      <td>4/5</td>\n",
       "      <td>114</td>\n",
       "      <td>114</td>\n",
       "    </tr>\n",
       "    <tr>\n",
       "      <th>407</th>\n",
       "      <td>12.900</td>\n",
       "      <td>228</td>\n",
       "      <td>Türenca.</td>\n",
       "      <td>g</td>\n",
       "      <td>201</td>\n",
       "    </tr>\n",
       "  </tbody>\n",
       "</table>\n",
       "</div>"
      ],
      "text/plain": [
       "      Price   KW            Fuel Fuel_consumption       Co2\n",
       "617  12.790   81        Türen3,8         (komb.)*        99\n",
       "377  17.990  135        Türenca.                g       119\n",
       "77   19.480  135             4/5              130       130\n",
       "193  19.950  162           Türen                0        HU\n",
       "511  19.999  195              HU         (komb.),       225\n",
       "412  13.900   77            Neu,                g       119\n",
       "349  17.850  169             4/5              149       149\n",
       "482  26.900  135             4/5              118       118\n",
       "92   14.690  110         l/100km          (komb.)       110\n",
       "535  19.980  100              HU                0       226\n",
       "471  26.990  140             4/5              133       133\n",
       "112  23.990  140      Automatik,        (komb.)*,       136\n",
       "599  13.790  103             4/5              125       125\n",
       "67   19.440  135             4/5              125       125\n",
       "26   17.333  147  Unfallschaden,         Türenca.  Türenca.\n",
       "185  12.999   85             4/5              119       119\n",
       "186  14.990  110         l/100km          (komb.)       112\n",
       "510  19.949  225        Türenca.                g       174\n",
       "321  22.980  125             4/5              114       114\n",
       "407  12.900  228        Türenca.                g       201"
      ]
     },
     "execution_count": 21,
     "metadata": {},
     "output_type": "execute_result"
    }
   ],
   "source": [
    "df.sample(20)"
   ]
  },
  {
   "cell_type": "code",
   "execution_count": 4,
   "metadata": {},
   "outputs": [
    {
     "name": "stderr",
     "output_type": "stream",
     "text": [
      "[WDM] - ====== WebDriver manager ======\n",
      "[WDM] - Current google-chrome version is 90.0.4430\n",
      "[WDM] - Get LATEST driver version for 90.0.4430\n"
     ]
    },
    {
     "name": "stdout",
     "output_type": "stream",
     "text": [
      "\n",
      "\n"
     ]
    },
    {
     "name": "stderr",
     "output_type": "stream",
     "text": [
      "[WDM] - Driver [/home/mattdmv/.wdm/drivers/chromedriver/linux64/90.0.4430.24/chromedriver] found in cache\n"
     ]
    }
   ],
   "source": [
    "#setting Chrome driver\n",
    "driver = webdriver.Chrome(ChromeDriverManager().install())"
   ]
  },
  {
   "cell_type": "code",
   "execution_count": 256,
   "metadata": {},
   "outputs": [],
   "source": [
    "# gettin url of page we want to scrap\n",
    "url =\"http://www.automobile-data.com/?modification_id=1\"\n",
    "driver.get(url)"
   ]
  },
  {
   "cell_type": "code",
   "execution_count": 257,
   "metadata": {},
   "outputs": [],
   "source": [
    "soup= BeautifulSoup(driver.page_source,\"html.parser\")"
   ]
  },
  {
   "cell_type": "code",
   "execution_count": 94,
   "metadata": {},
   "outputs": [],
   "source": [
    "#finding all apartmets on single page\n",
    "cars=soup.find_all(\"div\",\"main\")"
   ]
  },
  {
   "cell_type": "code",
   "execution_count": 95,
   "metadata": {},
   "outputs": [],
   "source": [
    "car=cars[0]"
   ]
  },
  {
   "cell_type": "code",
   "execution_count": 96,
   "metadata": {},
   "outputs": [
    {
     "data": {
      "text/plain": [
       "'All cars /  AC / ACE / 3.5 i V8 32V Turbo (354 Hp)'"
      ]
     },
     "execution_count": 96,
     "metadata": {},
     "output_type": "execute_result"
    }
   ],
   "source": [
    "car.find(\"div\",\"navigation\").text.strip()"
   ]
  },
  {
   "cell_type": "code",
   "execution_count": 97,
   "metadata": {},
   "outputs": [
    {
     "data": {
      "text/plain": [
       "'Similar models\\n4.6 i V8 32V (326 Hp)4.9 i V8 (260 Hp)'"
      ]
     },
     "execution_count": 97,
     "metadata": {},
     "output_type": "execute_result"
    }
   ],
   "source": [
    "car.find(\"div\",\"fl\").text.strip()"
   ]
  },
  {
   "cell_type": "code",
   "execution_count": 188,
   "metadata": {},
   "outputs": [
    {
     "data": {
      "text/plain": [
       "'2'"
      ]
     },
     "execution_count": 188,
     "metadata": {},
     "output_type": "execute_result"
    }
   ],
   "source": [
    "#seats\n",
    "car.find(\"div\",\"mods-container\").text.strip().split(\"\\n\")[19]"
   ]
  },
  {
   "cell_type": "code",
   "execution_count": 194,
   "metadata": {},
   "outputs": [
    {
     "data": {
      "text/plain": [
       "'Petrol'"
      ]
     },
     "execution_count": 194,
     "metadata": {},
     "output_type": "execute_result"
    }
   ],
   "source": [
    "#fuel\n",
    "car.find(\"div\",\"mods-container\").text.strip().split(\"\\n\")[34]"
   ]
  },
  {
   "cell_type": "code",
   "execution_count": 224,
   "metadata": {},
   "outputs": [
    {
     "data": {
      "text/plain": [
       "'3506'"
      ]
     },
     "execution_count": 224,
     "metadata": {},
     "output_type": "execute_result"
    }
   ],
   "source": [
    "#engine capacity\n",
    "car.find(\"div\",\"mods-container\").text.strip().split(\"\\n\")[50]"
   ]
  },
  {
   "cell_type": "code",
   "execution_count": 226,
   "metadata": {},
   "outputs": [
    {
     "data": {
      "text/plain": [
       "'8'"
      ]
     },
     "execution_count": 226,
     "metadata": {},
     "output_type": "execute_result"
    }
   ],
   "source": [
    "#cylinder\n",
    "car.find(\"div\",\"mods-container\").text.strip().split(\"\\n\")[54][0]"
   ]
  },
  {
   "cell_type": "code",
   "execution_count": 209,
   "metadata": {},
   "outputs": [
    {
     "data": {
      "text/plain": [
       "'264'"
      ]
     },
     "execution_count": 209,
     "metadata": {},
     "output_type": "execute_result"
    }
   ],
   "source": [
    "#kw\n",
    "car.find(\"div\",\"mods-container\").text.strip().split(\"\\n\")[58].split(\"/\")[1]"
   ]
  },
  {
   "cell_type": "code",
   "execution_count": 211,
   "metadata": {},
   "outputs": [
    {
     "data": {
      "text/plain": [
       "'5.5'"
      ]
     },
     "execution_count": 211,
     "metadata": {},
     "output_type": "execute_result"
    }
   ],
   "source": [
    "#acceleration\n",
    "car.find(\"div\",\"mods-container\").text.strip().split(\"\\n\")[66]"
   ]
  },
  {
   "cell_type": "code",
   "execution_count": 230,
   "metadata": {},
   "outputs": [
    {
     "data": {
      "text/plain": [
       "'250 '"
      ]
     },
     "execution_count": 230,
     "metadata": {},
     "output_type": "execute_result"
    }
   ],
   "source": [
    "#max speed\n",
    "car.find(\"div\",\"mods-container\").text.strip().split(\"\\n\")[70].replace(\"km/h\",\"\")"
   ]
  },
  {
   "cell_type": "code",
   "execution_count": 227,
   "metadata": {},
   "outputs": [
    {
     "data": {
      "text/plain": [
       "'4420 '"
      ]
     },
     "execution_count": 227,
     "metadata": {},
     "output_type": "execute_result"
    }
   ],
   "source": [
    "#lenght\n",
    "car.find(\"div\",\"mods-container\").text.strip().split(\"\\n\")[92].replace(\"mm\",\"\")"
   ]
  },
  {
   "cell_type": "code",
   "execution_count": 228,
   "metadata": {},
   "outputs": [
    {
     "data": {
      "text/plain": [
       "'1870 '"
      ]
     },
     "execution_count": 228,
     "metadata": {},
     "output_type": "execute_result"
    }
   ],
   "source": [
    "#width\n",
    "car.find(\"div\",\"mods-container\").text.strip().split(\"\\n\")[96].replace(\"mm\",\"\")"
   ]
  },
  {
   "cell_type": "code",
   "execution_count": 229,
   "metadata": {},
   "outputs": [
    {
     "data": {
      "text/plain": [
       "'1300 '"
      ]
     },
     "execution_count": 229,
     "metadata": {},
     "output_type": "execute_result"
    }
   ],
   "source": [
    "#height\n",
    "car.find(\"div\",\"mods-container\").text.strip().split(\"\\n\")[100].replace(\"mm\",\"\")"
   ]
  },
  {
   "cell_type": "code",
   "execution_count": 220,
   "metadata": {},
   "outputs": [
    {
     "data": {
      "text/plain": [
       "'1510 kg'"
      ]
     },
     "execution_count": 220,
     "metadata": {},
     "output_type": "execute_result"
    }
   ],
   "source": [
    "#weight\n",
    "car.find(\"div\",\"mods-container\").text.strip().split(\"\\n\")[104].replace(\"kg\",\"\")"
   ]
  },
  {
   "cell_type": "code",
   "execution_count": 234,
   "metadata": {},
   "outputs": [
    {
     "data": {
      "text/plain": [
       "'n/d'"
      ]
     },
     "execution_count": 234,
     "metadata": {},
     "output_type": "execute_result"
    }
   ],
   "source": [
    "#combined fuel nosumption\n",
    "car.find(\"div\",\"mods-container\").text.strip().split(\"\\n\")[151]"
   ]
  },
  {
   "cell_type": "code",
   "execution_count": 5,
   "metadata": {},
   "outputs": [],
   "source": [
    "name=[]\n",
    "fuel=[]\n",
    "engine_capacity=[]\n",
    "cylinder=[]\n",
    "kw=[]\n",
    "acceleration=[]\n",
    "max_speed=[]\n",
    "lenght=[]\n",
    "width=[]\n",
    "height=[]\n",
    "weight=[]\n",
    "consump=[]\n",
    "pages=range(1,9232)\n",
    "for page in pages:\n",
    "    url =\"http://www.automobile-data.com/?modification_id={}\".format(page)\n",
    "    driver.get(url)\n",
    "    soup= BeautifulSoup(driver.page_source,\"html.parser\")\n",
    "    cars=soup.find_all(\"div\",\"main\")\n",
    "\n",
    "    for i in cars:\n",
    "        try:\n",
    "            name.append(i.find(\"div\",\"navigation\").text.strip())\n",
    "        except:\n",
    "            name.append(0)\n",
    "        try:\n",
    "            fuel.append(i.find(\"div\",\"mods-container\").text.strip().split(\"\\n\")[34])\n",
    "        except:\n",
    "            fuel.append(0)\n",
    "        try:\n",
    "            engine_capacity.append(i.find(\"div\",\"mods-container\").text.strip().split(\"\\n\")[50])\n",
    "        except:\n",
    "            engine_capacity.append(0)\n",
    "        try:\n",
    "            cylinder.append(i.find(\"div\",\"mods-container\").text.strip().split(\"\\n\")[54][0])\n",
    "        except:\n",
    "            cylinder.append(0)\n",
    "        try:\n",
    "            kw.append(i.find(\"div\",\"mods-container\").text.strip().split(\"\\n\")[58].split(\"/\")[1])\n",
    "        except:\n",
    "            kw.append(0)\n",
    "        try:\n",
    "            acceleration.append(i.find(\"div\",\"mods-container\").text.strip().split(\"\\n\")[66])\n",
    "        except:\n",
    "            acceleration.append(0)\n",
    "        try:\n",
    "            max_speed.append(i.find(\"div\",\"mods-container\").text.strip().split(\"\\n\")[70].replace(\"km/h\",\"\"))\n",
    "        except:\n",
    "            max_speed.append(0)\n",
    "        try:\n",
    "            lenght.append(i.find(\"div\",\"mods-container\").text.strip().split(\"\\n\")[92].replace(\"mm\",\"\"))\n",
    "        except:\n",
    "            lenght.append(0)\n",
    "        try:\n",
    "            width.append(i.find(\"div\",\"mods-container\").text.strip().split(\"\\n\")[96].replace(\"mm\",\"\"))\n",
    "        except:\n",
    "            width.append(0)\n",
    "        try:\n",
    "            height.append(i.find(\"div\",\"mods-container\").text.strip().split(\"\\n\")[100].replace(\"mm\",\"\"))\n",
    "        except:\n",
    "            height.append(0)\n",
    "        try:\n",
    "            weight.append(i.find(\"div\",\"mods-container\").text.strip().split(\"\\n\")[104].replace(\"kg\",\"\"))\n",
    "        except:\n",
    "            weight.append(0)\n",
    "        try:\n",
    "            consump.append(i.find(\"div\",\"mods-container\").text.strip().split(\"\\n\")[151])\n",
    "        except:\n",
    "            consump.append(0)\n",
    "            "
   ]
  },
  {
   "cell_type": "code",
   "execution_count": 249,
   "metadata": {},
   "outputs": [],
   "source": [
    "data=list(zip(name,fuel,engine_capacity,cylinder,kw,acceleration,max_speed,lenght,width,height,weight,consump))"
   ]
  },
  {
   "cell_type": "code",
   "execution_count": 250,
   "metadata": {},
   "outputs": [],
   "source": [
    "df=pd.DataFrame(data,columns=[\"name\",\"fuel\",\"engine_capacity\",\"cylinder\",\"kw\",\"acceleration\",\"max_speed\",\"lenght\",\"width\",\"height\",\"weight\",\"consump\"])"
   ]
  },
  {
   "cell_type": "code",
   "execution_count": 251,
   "metadata": {},
   "outputs": [
    {
     "data": {
      "text/plain": [
       "(9218, 12)"
      ]
     },
     "execution_count": 251,
     "metadata": {},
     "output_type": "execute_result"
    }
   ],
   "source": [
    "df.shape"
   ]
  },
  {
   "cell_type": "code",
   "execution_count": 253,
   "metadata": {},
   "outputs": [
    {
     "data": {
      "text/html": [
       "<div>\n",
       "<style scoped>\n",
       "    .dataframe tbody tr th:only-of-type {\n",
       "        vertical-align: middle;\n",
       "    }\n",
       "\n",
       "    .dataframe tbody tr th {\n",
       "        vertical-align: top;\n",
       "    }\n",
       "\n",
       "    .dataframe thead th {\n",
       "        text-align: right;\n",
       "    }\n",
       "</style>\n",
       "<table border=\"1\" class=\"dataframe\">\n",
       "  <thead>\n",
       "    <tr style=\"text-align: right;\">\n",
       "      <th></th>\n",
       "      <th>name</th>\n",
       "      <th>fuel</th>\n",
       "      <th>engine_capacity</th>\n",
       "      <th>cylinder</th>\n",
       "      <th>kw</th>\n",
       "      <th>acceleration</th>\n",
       "      <th>max_speed</th>\n",
       "      <th>lenght</th>\n",
       "      <th>width</th>\n",
       "      <th>height</th>\n",
       "      <th>weight</th>\n",
       "      <th>consump</th>\n",
       "    </tr>\n",
       "  </thead>\n",
       "  <tbody>\n",
       "    <tr>\n",
       "      <th>5054</th>\n",
       "      <td>All cars /  Fiat / Palio / 1.0 i (55 Hp)</td>\n",
       "      <td>Petrol</td>\n",
       "      <td>999</td>\n",
       "      <td>4</td>\n",
       "      <td>41</td>\n",
       "      <td>16.3</td>\n",
       "      <td>150</td>\n",
       "      <td>3740</td>\n",
       "      <td>1614</td>\n",
       "      <td>1445</td>\n",
       "      <td>905 /1305</td>\n",
       "      <td>n/d</td>\n",
       "    </tr>\n",
       "    <tr>\n",
       "      <th>1682</th>\n",
       "      <td>All cars /  Audi / S3 / 2.0 TFSI quattro (300 ...</td>\n",
       "      <td>Petrol</td>\n",
       "      <td>1984</td>\n",
       "      <td>4</td>\n",
       "      <td>224</td>\n",
       "      <td>4.9</td>\n",
       "      <td>250</td>\n",
       "      <td>4469</td>\n",
       "      <td>1796</td>\n",
       "      <td>1392</td>\n",
       "      <td>1525 /2000</td>\n",
       "      <td>6.9 l/100km</td>\n",
       "    </tr>\n",
       "    <tr>\n",
       "      <th>6538</th>\n",
       "      <td>0</td>\n",
       "      <td>0</td>\n",
       "      <td>0</td>\n",
       "      <td>0</td>\n",
       "      <td>0</td>\n",
       "      <td>0</td>\n",
       "      <td>0</td>\n",
       "      <td>0</td>\n",
       "      <td>0</td>\n",
       "      <td>0</td>\n",
       "      <td>0</td>\n",
       "      <td>0</td>\n",
       "    </tr>\n",
       "    <tr>\n",
       "      <th>2475</th>\n",
       "      <td>0</td>\n",
       "      <td>0</td>\n",
       "      <td>0</td>\n",
       "      <td>0</td>\n",
       "      <td>0</td>\n",
       "      <td>0</td>\n",
       "      <td>0</td>\n",
       "      <td>0</td>\n",
       "      <td>0</td>\n",
       "      <td>0</td>\n",
       "      <td>0</td>\n",
       "      <td>0</td>\n",
       "    </tr>\n",
       "    <tr>\n",
       "      <th>2411</th>\n",
       "      <td>All cars /  BMW / 5er / 523 i (177 Hp)</td>\n",
       "      <td>Petrol</td>\n",
       "      <td>2497</td>\n",
       "      <td>6</td>\n",
       "      <td>132</td>\n",
       "      <td>8.8</td>\n",
       "      <td>227</td>\n",
       "      <td>4843</td>\n",
       "      <td>1846</td>\n",
       "      <td>1491</td>\n",
       "      <td>1565 /2160</td>\n",
       "      <td>n/d</td>\n",
       "    </tr>\n",
       "    <tr>\n",
       "      <th>3714</th>\n",
       "      <td>All cars /  Citroen / C1 / 1.4 HDi (54 Hp)</td>\n",
       "      <td>Diesel</td>\n",
       "      <td>1399</td>\n",
       "      <td>4</td>\n",
       "      <td>40</td>\n",
       "      <td>15.6</td>\n",
       "      <td>154</td>\n",
       "      <td>3435</td>\n",
       "      <td>1630</td>\n",
       "      <td>1465</td>\n",
       "      <td>890 /1399</td>\n",
       "      <td>4.1 l/100km</td>\n",
       "    </tr>\n",
       "    <tr>\n",
       "      <th>1118</th>\n",
       "      <td>All cars /  Audi / A4 / 3.0 TDI quattro (233 Hp)</td>\n",
       "      <td>Diesel</td>\n",
       "      <td>2967</td>\n",
       "      <td>6</td>\n",
       "      <td>174</td>\n",
       "      <td>6.8</td>\n",
       "      <td>245</td>\n",
       "      <td>4586</td>\n",
       "      <td>1772</td>\n",
       "      <td>1427</td>\n",
       "      <td>1610</td>\n",
       "      <td>n/d</td>\n",
       "    </tr>\n",
       "    <tr>\n",
       "      <th>2119</th>\n",
       "      <td>All cars /  BMW / 3er / 320 d (136 Hp)</td>\n",
       "      <td>Diesel</td>\n",
       "      <td>1951</td>\n",
       "      <td>4</td>\n",
       "      <td>101</td>\n",
       "      <td>9.8</td>\n",
       "      <td>207</td>\n",
       "      <td>4471</td>\n",
       "      <td>1739</td>\n",
       "      <td>1415</td>\n",
       "      <td>1375 /1875</td>\n",
       "      <td>5.6 l/100km</td>\n",
       "    </tr>\n",
       "    <tr>\n",
       "      <th>2349</th>\n",
       "      <td>All cars /  BMW / 5er / M550d xDrive (381 Hp)</td>\n",
       "      <td>Diesel</td>\n",
       "      <td>2993</td>\n",
       "      <td>6</td>\n",
       "      <td>284</td>\n",
       "      <td>4.7</td>\n",
       "      <td>250</td>\n",
       "      <td>4910</td>\n",
       "      <td>1860</td>\n",
       "      <td>1454</td>\n",
       "      <td>1970 /2475</td>\n",
       "      <td>6.3 l/100km</td>\n",
       "    </tr>\n",
       "    <tr>\n",
       "      <th>1935</th>\n",
       "      <td>All cars /  BMW / 1er / 118i (143 Hp)</td>\n",
       "      <td>Petrol</td>\n",
       "      <td>1995</td>\n",
       "      <td>4</td>\n",
       "      <td>107</td>\n",
       "      <td>8.8</td>\n",
       "      <td>210</td>\n",
       "      <td>4239</td>\n",
       "      <td>1748</td>\n",
       "      <td>1421</td>\n",
       "      <td>1350 /1765</td>\n",
       "      <td>6.2 l/100km</td>\n",
       "    </tr>\n",
       "    <tr>\n",
       "      <th>7236</th>\n",
       "      <td>All cars /  Hyundai / Elantra / 1.5 i.e. (84 Hp)</td>\n",
       "      <td>Petrol</td>\n",
       "      <td>1468</td>\n",
       "      <td>4</td>\n",
       "      <td>63</td>\n",
       "      <td>0</td>\n",
       "      <td>170  (158 )</td>\n",
       "      <td>4360</td>\n",
       "      <td>1675</td>\n",
       "      <td>1385</td>\n",
       "      <td>1040 /1510</td>\n",
       "      <td>7.3 l/100km (7.6 l/100km)</td>\n",
       "    </tr>\n",
       "    <tr>\n",
       "      <th>7678</th>\n",
       "      <td>All cars /  Jaguar / X-type / 2.1 i V6 24V (15...</td>\n",
       "      <td>Petrol</td>\n",
       "      <td>2099</td>\n",
       "      <td>6</td>\n",
       "      <td>116</td>\n",
       "      <td>9.4 (10.8)</td>\n",
       "      <td>210  (205 )</td>\n",
       "      <td>4672</td>\n",
       "      <td>1789</td>\n",
       "      <td>1430</td>\n",
       "      <td>1450 /1940</td>\n",
       "      <td>9.2 l/100km (10 l/100km)</td>\n",
       "    </tr>\n",
       "    <tr>\n",
       "      <th>1826</th>\n",
       "      <td>All cars /  Bentley / Arnage / 6.7 i V8 16V (4...</td>\n",
       "      <td>Petrol</td>\n",
       "      <td>6750</td>\n",
       "      <td>8</td>\n",
       "      <td>302</td>\n",
       "      <td>6.3</td>\n",
       "      <td>250</td>\n",
       "      <td>5390</td>\n",
       "      <td>1932</td>\n",
       "      <td>1515</td>\n",
       "      <td>2585 /2970</td>\n",
       "      <td>20.6 l/100km</td>\n",
       "    </tr>\n",
       "    <tr>\n",
       "      <th>987</th>\n",
       "      <td>All cars /  Audi / A3 / 1.8 T quattro (150 Hp)</td>\n",
       "      <td>Petrol</td>\n",
       "      <td>1781</td>\n",
       "      <td>4</td>\n",
       "      <td>112</td>\n",
       "      <td>8.2</td>\n",
       "      <td>215</td>\n",
       "      <td>4152</td>\n",
       "      <td>1735</td>\n",
       "      <td>1427</td>\n",
       "      <td>1290 /1850</td>\n",
       "      <td>8.7 l/100km</td>\n",
       "    </tr>\n",
       "    <tr>\n",
       "      <th>2015</th>\n",
       "      <td>All cars /  BMW / 3er / 320d (184 Hp)</td>\n",
       "      <td>Diesel</td>\n",
       "      <td>1995</td>\n",
       "      <td>4</td>\n",
       "      <td>137</td>\n",
       "      <td>7.5 (7.6)</td>\n",
       "      <td>235</td>\n",
       "      <td>4624</td>\n",
       "      <td>1811</td>\n",
       "      <td>1429</td>\n",
       "      <td>1495 /1970</td>\n",
       "      <td>4.6 l/100km (4.5 l/100km)</td>\n",
       "    </tr>\n",
       "    <tr>\n",
       "      <th>4522</th>\n",
       "      <td>All cars /  Dodge / Avenger / 2.0 (141 Hp)</td>\n",
       "      <td>Petrol</td>\n",
       "      <td>1996</td>\n",
       "      <td>4</td>\n",
       "      <td>105</td>\n",
       "      <td>0</td>\n",
       "      <td>180</td>\n",
       "      <td>4755</td>\n",
       "      <td>1740</td>\n",
       "      <td>1346</td>\n",
       "      <td>1306</td>\n",
       "      <td>n/d</td>\n",
       "    </tr>\n",
       "    <tr>\n",
       "      <th>6717</th>\n",
       "      <td>All cars /  Holden / Vectra / 2.0 i 16V (136 Hp)</td>\n",
       "      <td>Petrol</td>\n",
       "      <td>1998</td>\n",
       "      <td>4</td>\n",
       "      <td>101</td>\n",
       "      <td>7.6</td>\n",
       "      <td>215</td>\n",
       "      <td>4477</td>\n",
       "      <td>1707</td>\n",
       "      <td>1428</td>\n",
       "      <td>1285</td>\n",
       "      <td>10 l/100km</td>\n",
       "    </tr>\n",
       "    <tr>\n",
       "      <th>2470</th>\n",
       "      <td>0</td>\n",
       "      <td>0</td>\n",
       "      <td>0</td>\n",
       "      <td>0</td>\n",
       "      <td>0</td>\n",
       "      <td>0</td>\n",
       "      <td>0</td>\n",
       "      <td>0</td>\n",
       "      <td>0</td>\n",
       "      <td>0</td>\n",
       "      <td>0</td>\n",
       "      <td>0</td>\n",
       "    </tr>\n",
       "    <tr>\n",
       "      <th>7359</th>\n",
       "      <td>All cars /  Hyundai / ix35 / Tucson / 2.0 CVVT...</td>\n",
       "      <td>Petrol</td>\n",
       "      <td>1998</td>\n",
       "      <td>4</td>\n",
       "      <td>122</td>\n",
       "      <td>10.7</td>\n",
       "      <td>182</td>\n",
       "      <td>4410</td>\n",
       "      <td>1820</td>\n",
       "      <td>1660</td>\n",
       "      <td>1450 /2030</td>\n",
       "      <td>7.6 l/100km</td>\n",
       "    </tr>\n",
       "    <tr>\n",
       "      <th>7250</th>\n",
       "      <td>All cars /  Hyundai / Genesis / 3.3i V6 24V (2...</td>\n",
       "      <td>Petrol</td>\n",
       "      <td>3342</td>\n",
       "      <td>6</td>\n",
       "      <td>195</td>\n",
       "      <td>8</td>\n",
       "      <td>210</td>\n",
       "      <td>4975</td>\n",
       "      <td>1890</td>\n",
       "      <td>1480</td>\n",
       "      <td>1805 /2280</td>\n",
       "      <td>n/d</td>\n",
       "    </tr>\n",
       "  </tbody>\n",
       "</table>\n",
       "</div>"
      ],
      "text/plain": [
       "                                                   name    fuel  \\\n",
       "5054           All cars /  Fiat / Palio / 1.0 i (55 Hp)  Petrol   \n",
       "1682  All cars /  Audi / S3 / 2.0 TFSI quattro (300 ...  Petrol   \n",
       "6538                                                  0       0   \n",
       "2475                                                  0       0   \n",
       "2411             All cars /  BMW / 5er / 523 i (177 Hp)  Petrol   \n",
       "3714         All cars /  Citroen / C1 / 1.4 HDi (54 Hp)  Diesel   \n",
       "1118   All cars /  Audi / A4 / 3.0 TDI quattro (233 Hp)  Diesel   \n",
       "2119             All cars /  BMW / 3er / 320 d (136 Hp)  Diesel   \n",
       "2349      All cars /  BMW / 5er / M550d xDrive (381 Hp)  Diesel   \n",
       "1935              All cars /  BMW / 1er / 118i (143 Hp)  Petrol   \n",
       "7236   All cars /  Hyundai / Elantra / 1.5 i.e. (84 Hp)  Petrol   \n",
       "7678  All cars /  Jaguar / X-type / 2.1 i V6 24V (15...  Petrol   \n",
       "1826  All cars /  Bentley / Arnage / 6.7 i V8 16V (4...  Petrol   \n",
       "987      All cars /  Audi / A3 / 1.8 T quattro (150 Hp)  Petrol   \n",
       "2015              All cars /  BMW / 3er / 320d (184 Hp)  Diesel   \n",
       "4522         All cars /  Dodge / Avenger / 2.0 (141 Hp)  Petrol   \n",
       "6717   All cars /  Holden / Vectra / 2.0 i 16V (136 Hp)  Petrol   \n",
       "2470                                                  0       0   \n",
       "7359  All cars /  Hyundai / ix35 / Tucson / 2.0 CVVT...  Petrol   \n",
       "7250  All cars /  Hyundai / Genesis / 3.3i V6 24V (2...  Petrol   \n",
       "\n",
       "     engine_capacity cylinder   kw acceleration    max_speed lenght  width  \\\n",
       "5054             999        4   41         16.3         150   3740   1614    \n",
       "1682            1984        4  224          4.9         250   4469   1796    \n",
       "6538               0        0    0            0            0      0      0   \n",
       "2475               0        0    0            0            0      0      0   \n",
       "2411            2497        6  132          8.8         227   4843   1846    \n",
       "3714            1399        4   40         15.6         154   3435   1630    \n",
       "1118            2967        6  174          6.8         245   4586   1772    \n",
       "2119            1951        4  101          9.8         207   4471   1739    \n",
       "2349            2993        6  284          4.7         250   4910   1860    \n",
       "1935            1995        4  107          8.8         210   4239   1748    \n",
       "7236            1468        4   63            0  170  (158 )  4360   1675    \n",
       "7678            2099        6  116   9.4 (10.8)  210  (205 )  4672   1789    \n",
       "1826            6750        8  302          6.3         250   5390   1932    \n",
       "987             1781        4  112          8.2         215   4152   1735    \n",
       "2015            1995        4  137    7.5 (7.6)         235   4624   1811    \n",
       "4522            1996        4  105            0         180   4755   1740    \n",
       "6717            1998        4  101          7.6         215   4477   1707    \n",
       "2470               0        0    0            0            0      0      0   \n",
       "7359            1998        4  122         10.7         182   4410   1820    \n",
       "7250            3342        6  195            8         210   4975   1890    \n",
       "\n",
       "     height       weight                    consump  \n",
       "5054  1445    905 /1305                         n/d  \n",
       "1682  1392   1525 /2000                 6.9 l/100km  \n",
       "6538      0            0                          0  \n",
       "2475      0            0                          0  \n",
       "2411  1491   1565 /2160                         n/d  \n",
       "3714  1465    890 /1399                 4.1 l/100km  \n",
       "1118  1427         1610                         n/d  \n",
       "2119  1415   1375 /1875                 5.6 l/100km  \n",
       "2349  1454   1970 /2475                 6.3 l/100km  \n",
       "1935  1421   1350 /1765                 6.2 l/100km  \n",
       "7236  1385   1040 /1510   7.3 l/100km (7.6 l/100km)  \n",
       "7678  1430   1450 /1940    9.2 l/100km (10 l/100km)  \n",
       "1826  1515   2585 /2970                20.6 l/100km  \n",
       "987   1427   1290 /1850                 8.7 l/100km  \n",
       "2015  1429   1495 /1970   4.6 l/100km (4.5 l/100km)  \n",
       "4522  1346         1306                         n/d  \n",
       "6717  1428         1285                  10 l/100km  \n",
       "2470      0            0                          0  \n",
       "7359  1660   1450 /2030                 7.6 l/100km  \n",
       "7250  1480   1805 /2280                         n/d  "
      ]
     },
     "execution_count": 253,
     "metadata": {},
     "output_type": "execute_result"
    }
   ],
   "source": [
    "df.sample(20)"
   ]
  },
  {
   "cell_type": "code",
   "execution_count": 254,
   "metadata": {},
   "outputs": [],
   "source": [
    "#saving to csv file\n",
    "df.to_csv(\"cars_1\")"
   ]
  },
  {
   "cell_type": "code",
   "execution_count": 258,
   "metadata": {},
   "outputs": [],
   "source": [
    "name=[]\n",
    "fuel=[]\n",
    "engine_capacity=[]\n",
    "cylinder=[]\n",
    "kw=[]\n",
    "acceleration=[]\n",
    "max_speed=[]\n",
    "lenght=[]\n",
    "width=[]\n",
    "height=[]\n",
    "weight=[]\n",
    "consump=[]\n",
    "pages=range(9233,19998)\n",
    "for page in pages:\n",
    "    url =\"http://www.automobile-data.com/?modification_id={}\".format(page)\n",
    "    driver.get(url)\n",
    "    soup= BeautifulSoup(driver.page_source,\"html.parser\")\n",
    "    cars=soup.find_all(\"div\",\"main\")\n",
    "\n",
    "    for i in cars:\n",
    "        try:\n",
    "            name.append(i.find(\"div\",\"navigation\").text.strip())\n",
    "        except:\n",
    "            name.append(0)\n",
    "        try:\n",
    "            fuel.append(i.find(\"div\",\"mods-container\").text.strip().split(\"\\n\")[34])\n",
    "        except:\n",
    "            fuel.append(0)\n",
    "        try:\n",
    "            engine_capacity.append(i.find(\"div\",\"mods-container\").text.strip().split(\"\\n\")[50])\n",
    "        except:\n",
    "            engine_capacity.append(0)\n",
    "        try:\n",
    "            cylinder.append(i.find(\"div\",\"mods-container\").text.strip().split(\"\\n\")[54][0])\n",
    "        except:\n",
    "            cylinder.append(0)\n",
    "        try:\n",
    "            kw.append(i.find(\"div\",\"mods-container\").text.strip().split(\"\\n\")[58].split(\"/\")[1])\n",
    "        except:\n",
    "            kw.append(0)\n",
    "        try:\n",
    "            acceleration.append(i.find(\"div\",\"mods-container\").text.strip().split(\"\\n\")[66])\n",
    "        except:\n",
    "            acceleration.append(0)\n",
    "        try:\n",
    "            max_speed.append(i.find(\"div\",\"mods-container\").text.strip().split(\"\\n\")[70].replace(\"km/h\",\"\"))\n",
    "        except:\n",
    "            max_speed.append(0)\n",
    "        try:\n",
    "            lenght.append(i.find(\"div\",\"mods-container\").text.strip().split(\"\\n\")[92].replace(\"mm\",\"\"))\n",
    "        except:\n",
    "            lenght.append(0)\n",
    "        try:\n",
    "            width.append(i.find(\"div\",\"mods-container\").text.strip().split(\"\\n\")[96].replace(\"mm\",\"\"))\n",
    "        except:\n",
    "            width.append(0)\n",
    "        try:\n",
    "            height.append(i.find(\"div\",\"mods-container\").text.strip().split(\"\\n\")[100].replace(\"mm\",\"\"))\n",
    "        except:\n",
    "            height.append(0)\n",
    "        try:\n",
    "            weight.append(i.find(\"div\",\"mods-container\").text.strip().split(\"\\n\")[104].replace(\"kg\",\"\"))\n",
    "        except:\n",
    "            weight.append(0)\n",
    "        try:\n",
    "            consump.append(i.find(\"div\",\"mods-container\").text.strip().split(\"\\n\")[151])\n",
    "        except:\n",
    "            consump.append(0)"
   ]
  },
  {
   "cell_type": "code",
   "execution_count": 259,
   "metadata": {},
   "outputs": [],
   "source": [
    "data=list(zip(name,fuel,engine_capacity,cylinder,kw,acceleration,max_speed,lenght,width,height,weight,consump))"
   ]
  },
  {
   "cell_type": "code",
   "execution_count": 260,
   "metadata": {},
   "outputs": [],
   "source": [
    "df=pd.DataFrame(data,columns=[\"name\",\"fuel\",\"engine_capacity\",\"cylinder\",\"kw\",\"acceleration\",\"max_speed\",\"lenght\",\"width\",\"height\",\"weight\",\"consump\"])"
   ]
  },
  {
   "cell_type": "code",
   "execution_count": 261,
   "metadata": {},
   "outputs": [
    {
     "data": {
      "text/plain": [
       "(10765, 12)"
      ]
     },
     "execution_count": 261,
     "metadata": {},
     "output_type": "execute_result"
    }
   ],
   "source": [
    "df.shape"
   ]
  },
  {
   "cell_type": "code",
   "execution_count": 263,
   "metadata": {},
   "outputs": [
    {
     "data": {
      "text/html": [
       "<div>\n",
       "<style scoped>\n",
       "    .dataframe tbody tr th:only-of-type {\n",
       "        vertical-align: middle;\n",
       "    }\n",
       "\n",
       "    .dataframe tbody tr th {\n",
       "        vertical-align: top;\n",
       "    }\n",
       "\n",
       "    .dataframe thead th {\n",
       "        text-align: right;\n",
       "    }\n",
       "</style>\n",
       "<table border=\"1\" class=\"dataframe\">\n",
       "  <thead>\n",
       "    <tr style=\"text-align: right;\">\n",
       "      <th></th>\n",
       "      <th>name</th>\n",
       "      <th>fuel</th>\n",
       "      <th>engine_capacity</th>\n",
       "      <th>cylinder</th>\n",
       "      <th>kw</th>\n",
       "      <th>acceleration</th>\n",
       "      <th>max_speed</th>\n",
       "      <th>lenght</th>\n",
       "      <th>width</th>\n",
       "      <th>height</th>\n",
       "      <th>weight</th>\n",
       "      <th>consump</th>\n",
       "    </tr>\n",
       "  </thead>\n",
       "  <tbody>\n",
       "    <tr>\n",
       "      <th>10763</th>\n",
       "      <td>All cars /  ZX / Landmark / 2.4 (126H.P.) 4x2 ...</td>\n",
       "      <td>Petrol</td>\n",
       "      <td>2351</td>\n",
       "      <td>4</td>\n",
       "      <td>94</td>\n",
       "      <td>0</td>\n",
       "      <td>140</td>\n",
       "      <td>4750</td>\n",
       "      <td>1750</td>\n",
       "      <td>1735</td>\n",
       "      <td>1710 /2165</td>\n",
       "      <td>13 l/100km</td>\n",
       "    </tr>\n",
       "    <tr>\n",
       "      <th>10022</th>\n",
       "      <td>All cars /  Volkswagen / Touran / 1.6 (105 Hp)...</td>\n",
       "      <td>Diesel</td>\n",
       "      <td>1598</td>\n",
       "      <td>4</td>\n",
       "      <td>78</td>\n",
       "      <td>12.8</td>\n",
       "      <td>183</td>\n",
       "      <td>4397</td>\n",
       "      <td>1794</td>\n",
       "      <td>1634</td>\n",
       "      <td>1557 /2200</td>\n",
       "      <td>5.1 l/100km</td>\n",
       "    </tr>\n",
       "    <tr>\n",
       "      <th>9845</th>\n",
       "      <td>All cars /  Volkswagen / Polo / 1.9 TDI (100 Hp)</td>\n",
       "      <td>Diesel</td>\n",
       "      <td>1896</td>\n",
       "      <td>4</td>\n",
       "      <td>75</td>\n",
       "      <td>11.5</td>\n",
       "      <td>182</td>\n",
       "      <td>3911</td>\n",
       "      <td>1671</td>\n",
       "      <td>1537</td>\n",
       "      <td>1197 /1650</td>\n",
       "      <td>5.1 l/100km</td>\n",
       "    </tr>\n",
       "    <tr>\n",
       "      <th>8223</th>\n",
       "      <td>All cars /  Toyota / Scepter / 3.0 i V6 24V (1...</td>\n",
       "      <td>Fuel system</td>\n",
       "      <td>Cylinders/valves</td>\n",
       "      <td>P</td>\n",
       "      <td>rpm</td>\n",
       "      <td>Top speed</td>\n",
       "      <td>TRANSMISSION</td>\n",
       "      <td>Width</td>\n",
       "      <td>Height</td>\n",
       "      <td>Weight/Max Weight</td>\n",
       "      <td>Wheelbase</td>\n",
       "      <td>CO2 emissions, g/km</td>\n",
       "    </tr>\n",
       "    <tr>\n",
       "      <th>3891</th>\n",
       "      <td>All cars /  Peugeot / 208 / 1.4 e-HDi (68 Hp) ...</td>\n",
       "      <td>Diesel</td>\n",
       "      <td>1397</td>\n",
       "      <td>4</td>\n",
       "      <td>51</td>\n",
       "      <td>16.2</td>\n",
       "      <td>165</td>\n",
       "      <td>3962</td>\n",
       "      <td>1829</td>\n",
       "      <td>1460</td>\n",
       "      <td>1060 /1580</td>\n",
       "      <td>3.4 l/100km</td>\n",
       "    </tr>\n",
       "    <tr>\n",
       "      <th>10407</th>\n",
       "      <td>All cars /  Volvo / S70 / 2.0 20V Turbo (226 Hp)</td>\n",
       "      <td>Petrol</td>\n",
       "      <td>1984</td>\n",
       "      <td>5</td>\n",
       "      <td>169</td>\n",
       "      <td>7.7 (7.8)</td>\n",
       "      <td>240  (230 )</td>\n",
       "      <td>4720</td>\n",
       "      <td>1760</td>\n",
       "      <td>1400</td>\n",
       "      <td>1460 /1910</td>\n",
       "      <td>n/d</td>\n",
       "    </tr>\n",
       "    <tr>\n",
       "      <th>1057</th>\n",
       "      <td>All cars /  Mercury / Mountaineer / 4.6 i V8 (...</td>\n",
       "      <td>Petrol</td>\n",
       "      <td>4601</td>\n",
       "      <td>8</td>\n",
       "      <td>220</td>\n",
       "      <td>0</td>\n",
       "      <td>n/d</td>\n",
       "      <td>4845</td>\n",
       "      <td>1832</td>\n",
       "      <td>1821</td>\n",
       "      <td>2080 /2757</td>\n",
       "      <td>n/d</td>\n",
       "    </tr>\n",
       "    <tr>\n",
       "      <th>10361</th>\n",
       "      <td>All cars /  Volvo / S60 / 1.6 T3 (150 Hp) star...</td>\n",
       "      <td>Petrol</td>\n",
       "      <td>1596</td>\n",
       "      <td>4</td>\n",
       "      <td>112</td>\n",
       "      <td>9.4</td>\n",
       "      <td>n/d</td>\n",
       "      <td>4635</td>\n",
       "      <td>1825</td>\n",
       "      <td>1484</td>\n",
       "      <td>1573 /2020</td>\n",
       "      <td>5.8 l/100km</td>\n",
       "    </tr>\n",
       "    <tr>\n",
       "      <th>48</th>\n",
       "      <td>All cars /  Mercedes-Benz / 280 / 280 E (197 Hp)</td>\n",
       "      <td>Fuel system</td>\n",
       "      <td>Cylinders/valves</td>\n",
       "      <td>P</td>\n",
       "      <td>rpm</td>\n",
       "      <td>Top speed</td>\n",
       "      <td>TRANSMISSION</td>\n",
       "      <td>Width</td>\n",
       "      <td>Height</td>\n",
       "      <td>Weight/Max Weight</td>\n",
       "      <td>Wheelbase</td>\n",
       "      <td>CO2 emissions, g/km</td>\n",
       "    </tr>\n",
       "    <tr>\n",
       "      <th>8067</th>\n",
       "      <td>0</td>\n",
       "      <td>0</td>\n",
       "      <td>0</td>\n",
       "      <td>0</td>\n",
       "      <td>0</td>\n",
       "      <td>0</td>\n",
       "      <td>0</td>\n",
       "      <td>0</td>\n",
       "      <td>0</td>\n",
       "      <td>0</td>\n",
       "      <td>0</td>\n",
       "      <td>0</td>\n",
       "    </tr>\n",
       "    <tr>\n",
       "      <th>6496</th>\n",
       "      <td>All cars /  Skoda / Superb / 2.0 TDI (170 Hp) ...</td>\n",
       "      <td>Diesel</td>\n",
       "      <td>1968</td>\n",
       "      <td>4</td>\n",
       "      <td>127</td>\n",
       "      <td>8.7</td>\n",
       "      <td>221</td>\n",
       "      <td>4833</td>\n",
       "      <td>1817</td>\n",
       "      <td>1511</td>\n",
       "      <td>1579 /2142</td>\n",
       "      <td>5.4 l/100km</td>\n",
       "    </tr>\n",
       "    <tr>\n",
       "      <th>7046</th>\n",
       "      <td>All cars /  Suzuki / Swift / 1.0 i (5 dr) (53 Hp)</td>\n",
       "      <td>Petrol</td>\n",
       "      <td>993</td>\n",
       "      <td>3</td>\n",
       "      <td>40</td>\n",
       "      <td>0</td>\n",
       "      <td>145</td>\n",
       "      <td>3845</td>\n",
       "      <td>1590</td>\n",
       "      <td>1380</td>\n",
       "      <td>750 /1280</td>\n",
       "      <td>7.3 l/100km</td>\n",
       "    </tr>\n",
       "    <tr>\n",
       "      <th>7385</th>\n",
       "      <td>All cars /  Toyota / Auris / 1.33 Dual VVT-i (...</td>\n",
       "      <td>Petrol</td>\n",
       "      <td>1329</td>\n",
       "      <td>4</td>\n",
       "      <td>74</td>\n",
       "      <td>12.6</td>\n",
       "      <td>175</td>\n",
       "      <td>4275</td>\n",
       "      <td>1760</td>\n",
       "      <td>1460</td>\n",
       "      <td>1210 /1735</td>\n",
       "      <td>5.5 l/100km</td>\n",
       "    </tr>\n",
       "    <tr>\n",
       "      <th>6865</th>\n",
       "      <td>All cars /  Subaru / Pleo / 0.66 RS 4X4 (65 Hp)</td>\n",
       "      <td>Petrol</td>\n",
       "      <td>658</td>\n",
       "      <td>4</td>\n",
       "      <td>48</td>\n",
       "      <td>0</td>\n",
       "      <td>130</td>\n",
       "      <td>3395</td>\n",
       "      <td>1475</td>\n",
       "      <td>1580</td>\n",
       "      <td>820</td>\n",
       "      <td>n/d</td>\n",
       "    </tr>\n",
       "    <tr>\n",
       "      <th>293</th>\n",
       "      <td>All cars /  Mercedes-Benz / C-class / C 320 (2...</td>\n",
       "      <td>Petrol</td>\n",
       "      <td>3199</td>\n",
       "      <td>6</td>\n",
       "      <td>163</td>\n",
       "      <td>7.7 (7.7)</td>\n",
       "      <td>248  (245 )</td>\n",
       "      <td>4343</td>\n",
       "      <td>1728</td>\n",
       "      <td>1406</td>\n",
       "      <td>1525 /1980</td>\n",
       "      <td>10.9 l/100km (10.6 l/100km)</td>\n",
       "    </tr>\n",
       "    <tr>\n",
       "      <th>5816</th>\n",
       "      <td>All cars /  Seat / Altea / 1.4 TSI (125 Hp)</td>\n",
       "      <td>Petrol</td>\n",
       "      <td>1390</td>\n",
       "      <td>4</td>\n",
       "      <td>93</td>\n",
       "      <td>10.5</td>\n",
       "      <td>194</td>\n",
       "      <td>4469</td>\n",
       "      <td>1768</td>\n",
       "      <td>1581</td>\n",
       "      <td>1478 /2022</td>\n",
       "      <td>6.5 l/100km</td>\n",
       "    </tr>\n",
       "    <tr>\n",
       "      <th>1375</th>\n",
       "      <td>0</td>\n",
       "      <td>0</td>\n",
       "      <td>0</td>\n",
       "      <td>0</td>\n",
       "      <td>0</td>\n",
       "      <td>0</td>\n",
       "      <td>0</td>\n",
       "      <td>0</td>\n",
       "      <td>0</td>\n",
       "      <td>0</td>\n",
       "      <td>0</td>\n",
       "      <td>0</td>\n",
       "    </tr>\n",
       "    <tr>\n",
       "      <th>5881</th>\n",
       "      <td>All cars /  Seat / Cordoba / 1.6 (101 Hp)</td>\n",
       "      <td>Petrol</td>\n",
       "      <td>1595</td>\n",
       "      <td>4</td>\n",
       "      <td>75</td>\n",
       "      <td>11</td>\n",
       "      <td>188</td>\n",
       "      <td>4165</td>\n",
       "      <td>1645</td>\n",
       "      <td>1420</td>\n",
       "      <td>1080 /1540</td>\n",
       "      <td>7.8 l/100km (8.5 l/100km)</td>\n",
       "    </tr>\n",
       "    <tr>\n",
       "      <th>1283</th>\n",
       "      <td>All cars /  Mitsubishi / Dingo / 1.3 i 16V (80...</td>\n",
       "      <td>Petrol</td>\n",
       "      <td>1298</td>\n",
       "      <td>4</td>\n",
       "      <td>60</td>\n",
       "      <td>0</td>\n",
       "      <td>n/d</td>\n",
       "      <td>3905</td>\n",
       "      <td>1695</td>\n",
       "      <td>1635</td>\n",
       "      <td>1140 /1415</td>\n",
       "      <td>n/d</td>\n",
       "    </tr>\n",
       "    <tr>\n",
       "      <th>4739</th>\n",
       "      <td>0</td>\n",
       "      <td>0</td>\n",
       "      <td>0</td>\n",
       "      <td>0</td>\n",
       "      <td>0</td>\n",
       "      <td>0</td>\n",
       "      <td>0</td>\n",
       "      <td>0</td>\n",
       "      <td>0</td>\n",
       "      <td>0</td>\n",
       "      <td>0</td>\n",
       "      <td>0</td>\n",
       "    </tr>\n",
       "  </tbody>\n",
       "</table>\n",
       "</div>"
      ],
      "text/plain": [
       "                                                    name         fuel  \\\n",
       "10763  All cars /  ZX / Landmark / 2.4 (126H.P.) 4x2 ...       Petrol   \n",
       "10022  All cars /  Volkswagen / Touran / 1.6 (105 Hp)...       Diesel   \n",
       "9845    All cars /  Volkswagen / Polo / 1.9 TDI (100 Hp)       Diesel   \n",
       "8223   All cars /  Toyota / Scepter / 3.0 i V6 24V (1...  Fuel system   \n",
       "3891   All cars /  Peugeot / 208 / 1.4 e-HDi (68 Hp) ...       Diesel   \n",
       "10407   All cars /  Volvo / S70 / 2.0 20V Turbo (226 Hp)       Petrol   \n",
       "1057   All cars /  Mercury / Mountaineer / 4.6 i V8 (...       Petrol   \n",
       "10361  All cars /  Volvo / S60 / 1.6 T3 (150 Hp) star...       Petrol   \n",
       "48      All cars /  Mercedes-Benz / 280 / 280 E (197 Hp)  Fuel system   \n",
       "8067                                                   0            0   \n",
       "6496   All cars /  Skoda / Superb / 2.0 TDI (170 Hp) ...       Diesel   \n",
       "7046   All cars /  Suzuki / Swift / 1.0 i (5 dr) (53 Hp)       Petrol   \n",
       "7385   All cars /  Toyota / Auris / 1.33 Dual VVT-i (...       Petrol   \n",
       "6865     All cars /  Subaru / Pleo / 0.66 RS 4X4 (65 Hp)       Petrol   \n",
       "293    All cars /  Mercedes-Benz / C-class / C 320 (2...       Petrol   \n",
       "5816         All cars /  Seat / Altea / 1.4 TSI (125 Hp)       Petrol   \n",
       "1375                                                   0            0   \n",
       "5881           All cars /  Seat / Cordoba / 1.6 (101 Hp)       Petrol   \n",
       "1283   All cars /  Mitsubishi / Dingo / 1.3 i 16V (80...       Petrol   \n",
       "4739                                                   0            0   \n",
       "\n",
       "        engine_capacity cylinder   kw acceleration     max_speed lenght  \\\n",
       "10763              2351        4   94            0          140   4750    \n",
       "10022              1598        4   78         12.8          183   4397    \n",
       "9845               1896        4   75         11.5          182   3911    \n",
       "8223   Cylinders/valves        P  rpm    Top speed  TRANSMISSION  Width   \n",
       "3891               1397        4   51         16.2          165   3962    \n",
       "10407              1984        5  169    7.7 (7.8)   240  (230 )  4720    \n",
       "1057               4601        8  220            0           n/d  4845    \n",
       "10361              1596        4  112          9.4           n/d  4635    \n",
       "48     Cylinders/valves        P  rpm    Top speed  TRANSMISSION  Width   \n",
       "8067                  0        0    0            0             0      0   \n",
       "6496               1968        4  127          8.7          221   4833    \n",
       "7046                993        3   40            0          145   3845    \n",
       "7385               1329        4   74         12.6          175   4275    \n",
       "6865                658        4   48            0          130   3395    \n",
       "293                3199        6  163    7.7 (7.7)   248  (245 )  4343    \n",
       "5816               1390        4   93         10.5          194   4469    \n",
       "1375                  0        0    0            0             0      0   \n",
       "5881               1595        4   75           11          188   4165    \n",
       "1283               1298        4   60            0           n/d  3905    \n",
       "4739                  0        0    0            0             0      0   \n",
       "\n",
       "        width             height       weight                      consump  \n",
       "10763   1750               1735   1710 /2165                    13 l/100km  \n",
       "10022   1794               1634   1557 /2200                   5.1 l/100km  \n",
       "9845    1671               1537   1197 /1650                   5.1 l/100km  \n",
       "8223   Height  Weight/Max Weight    Wheelbase          CO2 emissions, g/km  \n",
       "3891    1829               1460   1060 /1580                   3.4 l/100km  \n",
       "10407   1760               1400   1460 /1910                           n/d  \n",
       "1057    1832               1821   2080 /2757                           n/d  \n",
       "10361   1825               1484   1573 /2020                   5.8 l/100km  \n",
       "48     Height  Weight/Max Weight    Wheelbase          CO2 emissions, g/km  \n",
       "8067        0                  0            0                            0  \n",
       "6496    1817               1511   1579 /2142                   5.4 l/100km  \n",
       "7046    1590               1380    750 /1280                   7.3 l/100km  \n",
       "7385    1760               1460   1210 /1735                   5.5 l/100km  \n",
       "6865    1475               1580          820                           n/d  \n",
       "293     1728               1406   1525 /1980   10.9 l/100km (10.6 l/100km)  \n",
       "5816    1768               1581   1478 /2022                   6.5 l/100km  \n",
       "1375        0                  0            0                            0  \n",
       "5881    1645               1420   1080 /1540     7.8 l/100km (8.5 l/100km)  \n",
       "1283    1695               1635   1140 /1415                           n/d  \n",
       "4739        0                  0            0                            0  "
      ]
     },
     "execution_count": 263,
     "metadata": {},
     "output_type": "execute_result"
    }
   ],
   "source": [
    "df.sample(20)"
   ]
  },
  {
   "cell_type": "code",
   "execution_count": 264,
   "metadata": {},
   "outputs": [],
   "source": [
    "#saving to csv file\n",
    "df.to_csv(\"cars_2\")"
   ]
  }
 ],
 "metadata": {
  "kernelspec": {
   "display_name": "Python 3",
   "language": "python",
   "name": "python3"
  },
  "language_info": {
   "codemirror_mode": {
    "name": "ipython",
    "version": 3
   },
   "file_extension": ".py",
   "mimetype": "text/x-python",
   "name": "python",
   "nbconvert_exporter": "python",
   "pygments_lexer": "ipython3",
   "version": "3.8.5"
  }
 },
 "nbformat": 4,
 "nbformat_minor": 4
}
